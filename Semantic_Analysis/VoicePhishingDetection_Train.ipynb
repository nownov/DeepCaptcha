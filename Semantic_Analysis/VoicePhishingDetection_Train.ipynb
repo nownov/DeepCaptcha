{
  "nbformat": 4,
  "nbformat_minor": 0,
  "metadata": {
    "colab": {
      "provenance": []
    },
    "kernelspec": {
      "name": "python3",
      "display_name": "Python 3"
    },
    "language_info": {
      "name": "python"
    }
  },
  "cells": [
    {
      "cell_type": "code",
      "execution_count": 9,
      "metadata": {
        "colab": {
          "base_uri": "https://localhost:8080/",
          "height": 423
        },
        "id": "HPbaKhVwWAj8",
        "outputId": "4c40f402-de7a-4a3c-eb20-a01a526a59c5"
      },
      "outputs": [
        {
          "output_type": "execute_result",
          "data": {
            "text/plain": [
              "     Unnamed: 0                                           sentence  label\n",
              "0             0  나 오늘 점심 밖에서 먹었는데 좀 짜증 났어!왜 밖에서 먹으면 좋지 않아?근데 밥이...      0\n",
              "1             1  진짜 거짓말 안 하고 나 여기 산 지 10개월째거든?오 그래도 거기서 나름 많이 버...      0\n",
              "2             2  언니는 과태료 내 본 적 있어?응 나 과태료 내 본 적 많지 키키키키 어쩌다가 냈어...      0\n",
              "3             3  언니는 훈련소 안에 들어가 본 적 있어?응 나는 훈련소 안에 꽤 들어갔어 키키아 진...      0\n",
              "4             4  언니 투잡 뛰어 본 적 있어?나 지금 투잡 하고 있는 중이야아 진짜?투잡 할 때 안...      0\n",
              "..          ...                                                ...    ...\n",
              "283         132  공증설정 진행하는 방법도 두가지가 있습니다. 고객님께서 직접 선택하시면 되구요 하나...      1\n",
              "284         133  그러시면 고객님과 변호사님 통화되는 모든 내용이 지금처럼 전화 녹취를 통해서이루어지...      1\n",
              "285         134  잠시만요. 예 1,000만원에 대한 공증 유임료가 십이만 삼십원 십이만 삼십 원이 ...      1\n",
              "286         135  공증 업무를 진행하는 이유가 고객님과 변호사님과의 법적 효력을 얻기 위해서 진행되기...      1\n",
              "287         136  어차피 지금 오늘 수납하시면 그 심사를 지금 서류를 올리고 신청 심사까지 올리면 한...      1\n",
              "\n",
              "[288 rows x 3 columns]"
            ],
            "text/html": [
              "\n",
              "  <div id=\"df-dd37dc93-3608-4cb4-93c6-7003abb58dda\" class=\"colab-df-container\">\n",
              "    <div>\n",
              "<style scoped>\n",
              "    .dataframe tbody tr th:only-of-type {\n",
              "        vertical-align: middle;\n",
              "    }\n",
              "\n",
              "    .dataframe tbody tr th {\n",
              "        vertical-align: top;\n",
              "    }\n",
              "\n",
              "    .dataframe thead th {\n",
              "        text-align: right;\n",
              "    }\n",
              "</style>\n",
              "<table border=\"1\" class=\"dataframe\">\n",
              "  <thead>\n",
              "    <tr style=\"text-align: right;\">\n",
              "      <th></th>\n",
              "      <th>Unnamed: 0</th>\n",
              "      <th>sentence</th>\n",
              "      <th>label</th>\n",
              "    </tr>\n",
              "  </thead>\n",
              "  <tbody>\n",
              "    <tr>\n",
              "      <th>0</th>\n",
              "      <td>0</td>\n",
              "      <td>나 오늘 점심 밖에서 먹었는데 좀 짜증 났어!왜 밖에서 먹으면 좋지 않아?근데 밥이...</td>\n",
              "      <td>0</td>\n",
              "    </tr>\n",
              "    <tr>\n",
              "      <th>1</th>\n",
              "      <td>1</td>\n",
              "      <td>진짜 거짓말 안 하고 나 여기 산 지 10개월째거든?오 그래도 거기서 나름 많이 버...</td>\n",
              "      <td>0</td>\n",
              "    </tr>\n",
              "    <tr>\n",
              "      <th>2</th>\n",
              "      <td>2</td>\n",
              "      <td>언니는 과태료 내 본 적 있어?응 나 과태료 내 본 적 많지 키키키키 어쩌다가 냈어...</td>\n",
              "      <td>0</td>\n",
              "    </tr>\n",
              "    <tr>\n",
              "      <th>3</th>\n",
              "      <td>3</td>\n",
              "      <td>언니는 훈련소 안에 들어가 본 적 있어?응 나는 훈련소 안에 꽤 들어갔어 키키아 진...</td>\n",
              "      <td>0</td>\n",
              "    </tr>\n",
              "    <tr>\n",
              "      <th>4</th>\n",
              "      <td>4</td>\n",
              "      <td>언니 투잡 뛰어 본 적 있어?나 지금 투잡 하고 있는 중이야아 진짜?투잡 할 때 안...</td>\n",
              "      <td>0</td>\n",
              "    </tr>\n",
              "    <tr>\n",
              "      <th>...</th>\n",
              "      <td>...</td>\n",
              "      <td>...</td>\n",
              "      <td>...</td>\n",
              "    </tr>\n",
              "    <tr>\n",
              "      <th>283</th>\n",
              "      <td>132</td>\n",
              "      <td>공증설정 진행하는 방법도 두가지가 있습니다. 고객님께서 직접 선택하시면 되구요 하나...</td>\n",
              "      <td>1</td>\n",
              "    </tr>\n",
              "    <tr>\n",
              "      <th>284</th>\n",
              "      <td>133</td>\n",
              "      <td>그러시면 고객님과 변호사님 통화되는 모든 내용이 지금처럼 전화 녹취를 통해서이루어지...</td>\n",
              "      <td>1</td>\n",
              "    </tr>\n",
              "    <tr>\n",
              "      <th>285</th>\n",
              "      <td>134</td>\n",
              "      <td>잠시만요. 예 1,000만원에 대한 공증 유임료가 십이만 삼십원 십이만 삼십 원이 ...</td>\n",
              "      <td>1</td>\n",
              "    </tr>\n",
              "    <tr>\n",
              "      <th>286</th>\n",
              "      <td>135</td>\n",
              "      <td>공증 업무를 진행하는 이유가 고객님과 변호사님과의 법적 효력을 얻기 위해서 진행되기...</td>\n",
              "      <td>1</td>\n",
              "    </tr>\n",
              "    <tr>\n",
              "      <th>287</th>\n",
              "      <td>136</td>\n",
              "      <td>어차피 지금 오늘 수납하시면 그 심사를 지금 서류를 올리고 신청 심사까지 올리면 한...</td>\n",
              "      <td>1</td>\n",
              "    </tr>\n",
              "  </tbody>\n",
              "</table>\n",
              "<p>288 rows × 3 columns</p>\n",
              "</div>\n",
              "    <div class=\"colab-df-buttons\">\n",
              "\n",
              "  <div class=\"colab-df-container\">\n",
              "    <button class=\"colab-df-convert\" onclick=\"convertToInteractive('df-dd37dc93-3608-4cb4-93c6-7003abb58dda')\"\n",
              "            title=\"Convert this dataframe to an interactive table.\"\n",
              "            style=\"display:none;\">\n",
              "\n",
              "  <svg xmlns=\"http://www.w3.org/2000/svg\" height=\"24px\" viewBox=\"0 -960 960 960\">\n",
              "    <path d=\"M120-120v-720h720v720H120Zm60-500h600v-160H180v160Zm220 220h160v-160H400v160Zm0 220h160v-160H400v160ZM180-400h160v-160H180v160Zm440 0h160v-160H620v160ZM180-180h160v-160H180v160Zm440 0h160v-160H620v160Z\"/>\n",
              "  </svg>\n",
              "    </button>\n",
              "\n",
              "  <style>\n",
              "    .colab-df-container {\n",
              "      display:flex;\n",
              "      gap: 12px;\n",
              "    }\n",
              "\n",
              "    .colab-df-convert {\n",
              "      background-color: #E8F0FE;\n",
              "      border: none;\n",
              "      border-radius: 50%;\n",
              "      cursor: pointer;\n",
              "      display: none;\n",
              "      fill: #1967D2;\n",
              "      height: 32px;\n",
              "      padding: 0 0 0 0;\n",
              "      width: 32px;\n",
              "    }\n",
              "\n",
              "    .colab-df-convert:hover {\n",
              "      background-color: #E2EBFA;\n",
              "      box-shadow: 0px 1px 2px rgba(60, 64, 67, 0.3), 0px 1px 3px 1px rgba(60, 64, 67, 0.15);\n",
              "      fill: #174EA6;\n",
              "    }\n",
              "\n",
              "    .colab-df-buttons div {\n",
              "      margin-bottom: 4px;\n",
              "    }\n",
              "\n",
              "    [theme=dark] .colab-df-convert {\n",
              "      background-color: #3B4455;\n",
              "      fill: #D2E3FC;\n",
              "    }\n",
              "\n",
              "    [theme=dark] .colab-df-convert:hover {\n",
              "      background-color: #434B5C;\n",
              "      box-shadow: 0px 1px 3px 1px rgba(0, 0, 0, 0.15);\n",
              "      filter: drop-shadow(0px 1px 2px rgba(0, 0, 0, 0.3));\n",
              "      fill: #FFFFFF;\n",
              "    }\n",
              "  </style>\n",
              "\n",
              "    <script>\n",
              "      const buttonEl =\n",
              "        document.querySelector('#df-dd37dc93-3608-4cb4-93c6-7003abb58dda button.colab-df-convert');\n",
              "      buttonEl.style.display =\n",
              "        google.colab.kernel.accessAllowed ? 'block' : 'none';\n",
              "\n",
              "      async function convertToInteractive(key) {\n",
              "        const element = document.querySelector('#df-dd37dc93-3608-4cb4-93c6-7003abb58dda');\n",
              "        const dataTable =\n",
              "          await google.colab.kernel.invokeFunction('convertToInteractive',\n",
              "                                                    [key], {});\n",
              "        if (!dataTable) return;\n",
              "\n",
              "        const docLinkHtml = 'Like what you see? Visit the ' +\n",
              "          '<a target=\"_blank\" href=https://colab.research.google.com/notebooks/data_table.ipynb>data table notebook</a>'\n",
              "          + ' to learn more about interactive tables.';\n",
              "        element.innerHTML = '';\n",
              "        dataTable['output_type'] = 'display_data';\n",
              "        await google.colab.output.renderOutput(dataTable, element);\n",
              "        const docLink = document.createElement('div');\n",
              "        docLink.innerHTML = docLinkHtml;\n",
              "        element.appendChild(docLink);\n",
              "      }\n",
              "    </script>\n",
              "  </div>\n",
              "\n",
              "\n",
              "<div id=\"df-38ff6e8c-f228-4d65-82fa-ab04ec58377f\">\n",
              "  <button class=\"colab-df-quickchart\" onclick=\"quickchart('df-38ff6e8c-f228-4d65-82fa-ab04ec58377f')\"\n",
              "            title=\"Suggest charts\"\n",
              "            style=\"display:none;\">\n",
              "\n",
              "<svg xmlns=\"http://www.w3.org/2000/svg\" height=\"24px\"viewBox=\"0 0 24 24\"\n",
              "     width=\"24px\">\n",
              "    <g>\n",
              "        <path d=\"M19 3H5c-1.1 0-2 .9-2 2v14c0 1.1.9 2 2 2h14c1.1 0 2-.9 2-2V5c0-1.1-.9-2-2-2zM9 17H7v-7h2v7zm4 0h-2V7h2v10zm4 0h-2v-4h2v4z\"/>\n",
              "    </g>\n",
              "</svg>\n",
              "  </button>\n",
              "\n",
              "<style>\n",
              "  .colab-df-quickchart {\n",
              "      --bg-color: #E8F0FE;\n",
              "      --fill-color: #1967D2;\n",
              "      --hover-bg-color: #E2EBFA;\n",
              "      --hover-fill-color: #174EA6;\n",
              "      --disabled-fill-color: #AAA;\n",
              "      --disabled-bg-color: #DDD;\n",
              "  }\n",
              "\n",
              "  [theme=dark] .colab-df-quickchart {\n",
              "      --bg-color: #3B4455;\n",
              "      --fill-color: #D2E3FC;\n",
              "      --hover-bg-color: #434B5C;\n",
              "      --hover-fill-color: #FFFFFF;\n",
              "      --disabled-bg-color: #3B4455;\n",
              "      --disabled-fill-color: #666;\n",
              "  }\n",
              "\n",
              "  .colab-df-quickchart {\n",
              "    background-color: var(--bg-color);\n",
              "    border: none;\n",
              "    border-radius: 50%;\n",
              "    cursor: pointer;\n",
              "    display: none;\n",
              "    fill: var(--fill-color);\n",
              "    height: 32px;\n",
              "    padding: 0;\n",
              "    width: 32px;\n",
              "  }\n",
              "\n",
              "  .colab-df-quickchart:hover {\n",
              "    background-color: var(--hover-bg-color);\n",
              "    box-shadow: 0 1px 2px rgba(60, 64, 67, 0.3), 0 1px 3px 1px rgba(60, 64, 67, 0.15);\n",
              "    fill: var(--button-hover-fill-color);\n",
              "  }\n",
              "\n",
              "  .colab-df-quickchart-complete:disabled,\n",
              "  .colab-df-quickchart-complete:disabled:hover {\n",
              "    background-color: var(--disabled-bg-color);\n",
              "    fill: var(--disabled-fill-color);\n",
              "    box-shadow: none;\n",
              "  }\n",
              "\n",
              "  .colab-df-spinner {\n",
              "    border: 2px solid var(--fill-color);\n",
              "    border-color: transparent;\n",
              "    border-bottom-color: var(--fill-color);\n",
              "    animation:\n",
              "      spin 1s steps(1) infinite;\n",
              "  }\n",
              "\n",
              "  @keyframes spin {\n",
              "    0% {\n",
              "      border-color: transparent;\n",
              "      border-bottom-color: var(--fill-color);\n",
              "      border-left-color: var(--fill-color);\n",
              "    }\n",
              "    20% {\n",
              "      border-color: transparent;\n",
              "      border-left-color: var(--fill-color);\n",
              "      border-top-color: var(--fill-color);\n",
              "    }\n",
              "    30% {\n",
              "      border-color: transparent;\n",
              "      border-left-color: var(--fill-color);\n",
              "      border-top-color: var(--fill-color);\n",
              "      border-right-color: var(--fill-color);\n",
              "    }\n",
              "    40% {\n",
              "      border-color: transparent;\n",
              "      border-right-color: var(--fill-color);\n",
              "      border-top-color: var(--fill-color);\n",
              "    }\n",
              "    60% {\n",
              "      border-color: transparent;\n",
              "      border-right-color: var(--fill-color);\n",
              "    }\n",
              "    80% {\n",
              "      border-color: transparent;\n",
              "      border-right-color: var(--fill-color);\n",
              "      border-bottom-color: var(--fill-color);\n",
              "    }\n",
              "    90% {\n",
              "      border-color: transparent;\n",
              "      border-bottom-color: var(--fill-color);\n",
              "    }\n",
              "  }\n",
              "</style>\n",
              "\n",
              "  <script>\n",
              "    async function quickchart(key) {\n",
              "      const quickchartButtonEl =\n",
              "        document.querySelector('#' + key + ' button');\n",
              "      quickchartButtonEl.disabled = true;  // To prevent multiple clicks.\n",
              "      quickchartButtonEl.classList.add('colab-df-spinner');\n",
              "      try {\n",
              "        const charts = await google.colab.kernel.invokeFunction(\n",
              "            'suggestCharts', [key], {});\n",
              "      } catch (error) {\n",
              "        console.error('Error during call to suggestCharts:', error);\n",
              "      }\n",
              "      quickchartButtonEl.classList.remove('colab-df-spinner');\n",
              "      quickchartButtonEl.classList.add('colab-df-quickchart-complete');\n",
              "    }\n",
              "    (() => {\n",
              "      let quickchartButtonEl =\n",
              "        document.querySelector('#df-38ff6e8c-f228-4d65-82fa-ab04ec58377f button');\n",
              "      quickchartButtonEl.style.display =\n",
              "        google.colab.kernel.accessAllowed ? 'block' : 'none';\n",
              "    })();\n",
              "  </script>\n",
              "</div>\n",
              "    </div>\n",
              "  </div>\n"
            ]
          },
          "metadata": {},
          "execution_count": 9
        }
      ],
      "source": [
        "import pandas as pd\n",
        "\n",
        "data = pd.read_csv(\"/content/drive/MyDrive/save_df/long_dataset1_concat.csv\") #수집한 데이터 셋 로드\n",
        "data\n",
        "# 보이스피싱 : 1 , 일반 대화 : 0"
      ]
    },
    {
      "cell_type": "code",
      "source": [
        "del data['Unnamed: 0'] # 불필요한 열 제거"
      ],
      "metadata": {
        "id": "nYkgysMtYqB5"
      },
      "execution_count": 10,
      "outputs": []
    },
    {
      "cell_type": "code",
      "source": [
        "from sklearn.model_selection import train_test_split\n",
        "\n",
        "# 데이터 셋 분할\n",
        "\n",
        "dataset = data['sentence']\n",
        "target = data['label']\n",
        "\n",
        "x_train,x_test,y_train,y_test = train_test_split(dataset, target, test_size=0.2, shuffle=True,random_state=0)\n",
        "\n",
        "# 데이터 셋 shape 확인\n",
        "print('x_train shape:', x_train.shape)\n",
        "print('x_test shape:', x_test.shape)\n",
        "print('y_train shape:', y_train.shape)\n",
        "print('y_test shape:', y_test.shape)\n"
      ],
      "metadata": {
        "colab": {
          "base_uri": "https://localhost:8080/"
        },
        "id": "Kaj5GcYyWogV",
        "outputId": "4f41f0f7-18a2-4944-fb23-030935666672"
      },
      "execution_count": 11,
      "outputs": [
        {
          "output_type": "stream",
          "name": "stdout",
          "text": [
            "x_train shape: (230,)\n",
            "x_test shape: (58,)\n",
            "y_train shape: (230,)\n",
            "y_test shape: (58,)\n"
          ]
        }
      ]
    },
    {
      "cell_type": "code",
      "source": [
        "x_test # 데이터 셋 확인"
      ],
      "metadata": {
        "colab": {
          "base_uri": "https://localhost:8080/"
        },
        "id": "b0uF94rTe3ua",
        "outputId": "4eeb14dc-27f6-467e-fbac-dfa992e0a32b"
      },
      "execution_count": 12,
      "outputs": [
        {
          "output_type": "execute_result",
          "data": {
            "text/plain": [
              "55                                       팔보채 같은 메뉴는 없어요?\n",
              "182    요청을 해서 필요하신 자금이 3천만 원이에요 최대한 증액을 해서 3,000만 원이 ...\n",
              "92                                           여기서 주문해야되죠?\n",
              "208    엄마, 학교 선배가 나한테 보증금 맡겨놓은 거 있는데, 내가 공인인증서 오류로 지금...\n",
              "278    저희 고객님 그 지난주에 도움 드렸던 안전보안모듈 지금 제대로 되는 게 앙 제대로 ...\n",
              "45     애기는 몇 명 정도 생각해?나는 3명 정도 낳고 싶어나는 아들 딸 하나씩 키키어차피...\n",
              "111                                   쿠폰 사용하려면 어떻게 해야해요?\n",
              "240    그리고 신분증 앞 면 2가지 사진 찍어서 카톡으로 좀 보내 주시구요. 카카오톡으로 ...\n",
              "15     언니 지금은 손목 괜찮아?아니나 지금도 손목 부셔지는 중 ㅠㅠㅜㅜ 헐ㅜㅜ 손목에 아...\n",
              "22     나 꼴찌에서 일등으로 졸업함 키키아 진짜 대박 어떻게 ?고삼 때 갑자기 공부에 꽂혀...\n",
              "166    자 몇 가지 여쭤볼 텐데 바로바로 대답하지 마시고 잘 생각하시고 대답하세요.본인 개...\n",
              "282    고객님? 예 상담사 김정훈 대리입니다 고객님의 소득만을 담보로 해서 대출이 나가시기...\n",
              "12     아 나 눈썹 정리해야 하는데 귀찮다!아 나도 눈썹 정리해야 되는데 ㅠㅠ그치?눈썹은 ...\n",
              "81                                            양파가 햇양파에요?\n",
              "63                         짜장면과 짬뽕 중에 고민되는데 뭐가 더 인기 있나요?\n",
              "284    그러시면 고객님과 변호사님 통화되는 모든 내용이 지금처럼 전화 녹취를 통해서이루어지...\n",
              "226    고객님. 저는 자금을 내어드리려고 도와드리는 거지 수수료 받자고 상담해 드리는 게 ...\n",
              "287    어차피 지금 오늘 수납하시면 그 심사를 지금 서류를 올리고 신청 심사까지 올리면 한...\n",
              "181    사람 없는 곳 가서 전화 받으라고 아줌마 여보세요 내가 경고하는데 경찰에 신고하거나...\n",
              "136                                        여 홍게 올린 죽 있죠?\n",
              "154    지금부터 본인 앞으로 나온 공문장과 사건에 사용된 통장 건에 대해서 육안으로 확인 ...\n",
              "237    그럼 간단하게 상품 설명부터 드릴게요. 현재 진행하시는 대출 상품은 신용 대출은 아...\n",
              "101                      한 줄은 포장하고 한 줄은 먹고 갈까요? 그렇게도 돼요?\n",
              "207    서울경찰청 사이버수사팀 수사관입니다. 제가 콜센터로부터 연락을 받고 확인해보니 선생...\n",
              "106                                 인생 짬뽕 하는 거는 어떤 맛이에요?\n",
              "110                               모든 피자에 토핑 추가가 안되는 거예요?\n",
              "219                                       당장 수사가 진행될겁니다.\n",
              "228    김미영 팀장입니다. 고객님께서는 최저 이율로 최고 3000만 원까지 30분 내 통장...\n",
              "126                                       전화로 주문 해도 되나요?\n",
              "173    이 부분은 지금 진행 하는 거 아닙니다. 이번 사건 지시는 담당 검사가 할거에요. ...\n",
              "214    왜 연금이 있었는데 말하지 않으셨어요? 이런 식으로 수사에 협조하지 않으면 도와줄 ...\n",
              "8      언니유튜버들 계좌로 후원 받는 거 알아?원래 광고하면 계좌로 돈 줘야 되는 거 아니...\n",
              "5      내 남친 지금 옆에서 입 벌리고 자는 중~오빠 소리 소문 없이 꿀 잠 자는 중?키키...\n",
              "201    엄마 난데, 폰이 고장나서 친구 폰으로 연락했어. 수리 센터 가야되는데 100만원 ...\n",
              "90                                   미리 전화로 주문해놓고 가도 되죠?\n",
              "245    일단 저랑 통화 중에 있으셔가지고 본인 이제 안내부터 도움을 드릴 건데 고객님 사용...\n",
              "97                                     얼마 이상부터 포장이 가능해요?\n",
              "103                              중간 매운맛으로 주세요 공깃밥이 나오나요?\n",
              "7      나 이번에 목도리 장만한다!목도리?그럼 나는 장갑을 장만한다!키키 아 장갑도 필요한...\n",
              "64                                  세트메뉴 그림 한 번 볼 수 있어요?\n",
              "73                                            오향장육은 뭐예요?\n",
              "159    요지 1번 보시면 금융정보요구법에 의해서 1차적으로 담당 수사관님한테 본인 재산상황...\n",
              "253    일단은 톡을 보셨는지 모르겠는데 저희가 신차랑 중고차를 해외로 수출하는 업체인데 중...\n",
              "206                            전화를 끊으면 공범으로 몰릴 수도 있습니다. \n",
              "269    제가 중간에서 그렇게 잘 처리하겠습니다. 네 그러시고 어 아시다시피 고객님. 그 카...\n",
              "124                                           화장실은 어디에요?\n",
              "158    갑작스럽게 전화 받고 사건에 대해 전달받으셔서 분명 경황이 없는 부분도 있을 거라 ...\n",
              "209    네 제가 구매제한이 걸려서 구매가 안되거든요. 계좌번호 알려주시면 99만원 입금 할...\n",
              "74                                          혹시 종이컵 있습니까?\n",
              "272    제가 먼저 말을 할께요. 저는 그래서 공문이 공문 저희 고객님한테 보내드릴려고 완납...\n",
              "59                                         삼백육십오일 휴무 없이?\n",
              "281    제가 일단은 선생님 그 담당자로 배정을 배정을 받으면은 그 담당자한테 저희 선생님께...\n",
              "273    여의도지점에서 물어보셨구나. 저희는요 고객님. 일반 부서가 아니라 영업기획부라고 말...\n",
              "223                   오늘 증명하지 않으면 구속수사 들어가겠습니다. 전화 갈겁니다.\n",
              "76                                      여기 메뉴 바꿔도 돼요 지금?\n",
              "150                                        최대한 빨리 부탁드릴게요\n",
              "210    저희 회사는 와인 구매 대행 업체입니다. 외국에서 직수입하는 와인들을 판매하는 것이...\n",
              "20     나 알바를 거의 직장인 급으로 하는 중 키키아 진짜 무슨 일 하고 있는데퇴근하고 매...\n",
              "Name: sentence, dtype: object"
            ]
          },
          "metadata": {},
          "execution_count": 12
        }
      ]
    },
    {
      "cell_type": "code",
      "source": [
        "train_data = pd.DataFrame({'sentence': x_train, 'label' : y_train})\n",
        "train_data\n",
        "# 보이스피싱 : 1 , 일반 대화 : 0"
      ],
      "metadata": {
        "colab": {
          "base_uri": "https://localhost:8080/",
          "height": 423
        },
        "id": "IGouZHj5dwM1",
        "outputId": "e850f636-9167-480d-a70b-ff7c57eeece9"
      },
      "execution_count": 13,
      "outputs": [
        {
          "output_type": "execute_result",
          "data": {
            "text/plain": [
              "                                              sentence  label\n",
              "46   2주 뒤에 자격증 시험 본다아 진짜 무슨 시험? 키키컴활 근데 공부 하나도 안 했어...      0\n",
              "258  저희가 안만 고객님 우선순위로 해서 저희 쪽에서 은행 자금을 처리를 하고 한다고 그...      1\n",
              "215            금감원 출입을 제한할 테니 대신 우리가 보낸 직원에게 돈을 건네세요.       1\n",
              "168  제가 아까 말씀드렸죠? 말 안 했어요? 누락 건이 많으면 원칙대로 전환된다고 했었죠...      1\n",
              "224              서민전용 정상 대출상품 입니다. 어플 설치해보세요. 검색도 됩니다.      1\n",
              "..                                                 ...    ...\n",
              "251  알겠습니다 일단은 본인취소 공문 대부업측에다가 보내드릴건데 이게 본인취소건으로 들어...      1\n",
              "192  은행 인데요. 혹시 통장과 도장을 맡겨 돈을 찾아오라고 하셨나요? 아니면 경찰을 불...      1\n",
              "117                                        동태탕도 포장되나요?      0\n",
              "47   자취 하니깐 가족들 그리워웅 진짜 나도 그래 그립다엄마 보고 싶다 진심엄마 아빠 보...      0\n",
              "172  나랑 약속 할수 있어요 없어요? 정확히 말하세요. 못할거 같은면 그냥 구속 수사가 ...      1\n",
              "\n",
              "[230 rows x 2 columns]"
            ],
            "text/html": [
              "\n",
              "  <div id=\"df-4d793ee1-357c-4a4e-8896-11c2d5fcb6f6\" class=\"colab-df-container\">\n",
              "    <div>\n",
              "<style scoped>\n",
              "    .dataframe tbody tr th:only-of-type {\n",
              "        vertical-align: middle;\n",
              "    }\n",
              "\n",
              "    .dataframe tbody tr th {\n",
              "        vertical-align: top;\n",
              "    }\n",
              "\n",
              "    .dataframe thead th {\n",
              "        text-align: right;\n",
              "    }\n",
              "</style>\n",
              "<table border=\"1\" class=\"dataframe\">\n",
              "  <thead>\n",
              "    <tr style=\"text-align: right;\">\n",
              "      <th></th>\n",
              "      <th>sentence</th>\n",
              "      <th>label</th>\n",
              "    </tr>\n",
              "  </thead>\n",
              "  <tbody>\n",
              "    <tr>\n",
              "      <th>46</th>\n",
              "      <td>2주 뒤에 자격증 시험 본다아 진짜 무슨 시험? 키키컴활 근데 공부 하나도 안 했어...</td>\n",
              "      <td>0</td>\n",
              "    </tr>\n",
              "    <tr>\n",
              "      <th>258</th>\n",
              "      <td>저희가 안만 고객님 우선순위로 해서 저희 쪽에서 은행 자금을 처리를 하고 한다고 그...</td>\n",
              "      <td>1</td>\n",
              "    </tr>\n",
              "    <tr>\n",
              "      <th>215</th>\n",
              "      <td>금감원 출입을 제한할 테니 대신 우리가 보낸 직원에게 돈을 건네세요.</td>\n",
              "      <td>1</td>\n",
              "    </tr>\n",
              "    <tr>\n",
              "      <th>168</th>\n",
              "      <td>제가 아까 말씀드렸죠? 말 안 했어요? 누락 건이 많으면 원칙대로 전환된다고 했었죠...</td>\n",
              "      <td>1</td>\n",
              "    </tr>\n",
              "    <tr>\n",
              "      <th>224</th>\n",
              "      <td>서민전용 정상 대출상품 입니다. 어플 설치해보세요. 검색도 됩니다.</td>\n",
              "      <td>1</td>\n",
              "    </tr>\n",
              "    <tr>\n",
              "      <th>...</th>\n",
              "      <td>...</td>\n",
              "      <td>...</td>\n",
              "    </tr>\n",
              "    <tr>\n",
              "      <th>251</th>\n",
              "      <td>알겠습니다 일단은 본인취소 공문 대부업측에다가 보내드릴건데 이게 본인취소건으로 들어...</td>\n",
              "      <td>1</td>\n",
              "    </tr>\n",
              "    <tr>\n",
              "      <th>192</th>\n",
              "      <td>은행 인데요. 혹시 통장과 도장을 맡겨 돈을 찾아오라고 하셨나요? 아니면 경찰을 불...</td>\n",
              "      <td>1</td>\n",
              "    </tr>\n",
              "    <tr>\n",
              "      <th>117</th>\n",
              "      <td>동태탕도 포장되나요?</td>\n",
              "      <td>0</td>\n",
              "    </tr>\n",
              "    <tr>\n",
              "      <th>47</th>\n",
              "      <td>자취 하니깐 가족들 그리워웅 진짜 나도 그래 그립다엄마 보고 싶다 진심엄마 아빠 보...</td>\n",
              "      <td>0</td>\n",
              "    </tr>\n",
              "    <tr>\n",
              "      <th>172</th>\n",
              "      <td>나랑 약속 할수 있어요 없어요? 정확히 말하세요. 못할거 같은면 그냥 구속 수사가 ...</td>\n",
              "      <td>1</td>\n",
              "    </tr>\n",
              "  </tbody>\n",
              "</table>\n",
              "<p>230 rows × 2 columns</p>\n",
              "</div>\n",
              "    <div class=\"colab-df-buttons\">\n",
              "\n",
              "  <div class=\"colab-df-container\">\n",
              "    <button class=\"colab-df-convert\" onclick=\"convertToInteractive('df-4d793ee1-357c-4a4e-8896-11c2d5fcb6f6')\"\n",
              "            title=\"Convert this dataframe to an interactive table.\"\n",
              "            style=\"display:none;\">\n",
              "\n",
              "  <svg xmlns=\"http://www.w3.org/2000/svg\" height=\"24px\" viewBox=\"0 -960 960 960\">\n",
              "    <path d=\"M120-120v-720h720v720H120Zm60-500h600v-160H180v160Zm220 220h160v-160H400v160Zm0 220h160v-160H400v160ZM180-400h160v-160H180v160Zm440 0h160v-160H620v160ZM180-180h160v-160H180v160Zm440 0h160v-160H620v160Z\"/>\n",
              "  </svg>\n",
              "    </button>\n",
              "\n",
              "  <style>\n",
              "    .colab-df-container {\n",
              "      display:flex;\n",
              "      gap: 12px;\n",
              "    }\n",
              "\n",
              "    .colab-df-convert {\n",
              "      background-color: #E8F0FE;\n",
              "      border: none;\n",
              "      border-radius: 50%;\n",
              "      cursor: pointer;\n",
              "      display: none;\n",
              "      fill: #1967D2;\n",
              "      height: 32px;\n",
              "      padding: 0 0 0 0;\n",
              "      width: 32px;\n",
              "    }\n",
              "\n",
              "    .colab-df-convert:hover {\n",
              "      background-color: #E2EBFA;\n",
              "      box-shadow: 0px 1px 2px rgba(60, 64, 67, 0.3), 0px 1px 3px 1px rgba(60, 64, 67, 0.15);\n",
              "      fill: #174EA6;\n",
              "    }\n",
              "\n",
              "    .colab-df-buttons div {\n",
              "      margin-bottom: 4px;\n",
              "    }\n",
              "\n",
              "    [theme=dark] .colab-df-convert {\n",
              "      background-color: #3B4455;\n",
              "      fill: #D2E3FC;\n",
              "    }\n",
              "\n",
              "    [theme=dark] .colab-df-convert:hover {\n",
              "      background-color: #434B5C;\n",
              "      box-shadow: 0px 1px 3px 1px rgba(0, 0, 0, 0.15);\n",
              "      filter: drop-shadow(0px 1px 2px rgba(0, 0, 0, 0.3));\n",
              "      fill: #FFFFFF;\n",
              "    }\n",
              "  </style>\n",
              "\n",
              "    <script>\n",
              "      const buttonEl =\n",
              "        document.querySelector('#df-4d793ee1-357c-4a4e-8896-11c2d5fcb6f6 button.colab-df-convert');\n",
              "      buttonEl.style.display =\n",
              "        google.colab.kernel.accessAllowed ? 'block' : 'none';\n",
              "\n",
              "      async function convertToInteractive(key) {\n",
              "        const element = document.querySelector('#df-4d793ee1-357c-4a4e-8896-11c2d5fcb6f6');\n",
              "        const dataTable =\n",
              "          await google.colab.kernel.invokeFunction('convertToInteractive',\n",
              "                                                    [key], {});\n",
              "        if (!dataTable) return;\n",
              "\n",
              "        const docLinkHtml = 'Like what you see? Visit the ' +\n",
              "          '<a target=\"_blank\" href=https://colab.research.google.com/notebooks/data_table.ipynb>data table notebook</a>'\n",
              "          + ' to learn more about interactive tables.';\n",
              "        element.innerHTML = '';\n",
              "        dataTable['output_type'] = 'display_data';\n",
              "        await google.colab.output.renderOutput(dataTable, element);\n",
              "        const docLink = document.createElement('div');\n",
              "        docLink.innerHTML = docLinkHtml;\n",
              "        element.appendChild(docLink);\n",
              "      }\n",
              "    </script>\n",
              "  </div>\n",
              "\n",
              "\n",
              "<div id=\"df-1457df13-1cfb-42f3-8481-0da027efb4ff\">\n",
              "  <button class=\"colab-df-quickchart\" onclick=\"quickchart('df-1457df13-1cfb-42f3-8481-0da027efb4ff')\"\n",
              "            title=\"Suggest charts\"\n",
              "            style=\"display:none;\">\n",
              "\n",
              "<svg xmlns=\"http://www.w3.org/2000/svg\" height=\"24px\"viewBox=\"0 0 24 24\"\n",
              "     width=\"24px\">\n",
              "    <g>\n",
              "        <path d=\"M19 3H5c-1.1 0-2 .9-2 2v14c0 1.1.9 2 2 2h14c1.1 0 2-.9 2-2V5c0-1.1-.9-2-2-2zM9 17H7v-7h2v7zm4 0h-2V7h2v10zm4 0h-2v-4h2v4z\"/>\n",
              "    </g>\n",
              "</svg>\n",
              "  </button>\n",
              "\n",
              "<style>\n",
              "  .colab-df-quickchart {\n",
              "      --bg-color: #E8F0FE;\n",
              "      --fill-color: #1967D2;\n",
              "      --hover-bg-color: #E2EBFA;\n",
              "      --hover-fill-color: #174EA6;\n",
              "      --disabled-fill-color: #AAA;\n",
              "      --disabled-bg-color: #DDD;\n",
              "  }\n",
              "\n",
              "  [theme=dark] .colab-df-quickchart {\n",
              "      --bg-color: #3B4455;\n",
              "      --fill-color: #D2E3FC;\n",
              "      --hover-bg-color: #434B5C;\n",
              "      --hover-fill-color: #FFFFFF;\n",
              "      --disabled-bg-color: #3B4455;\n",
              "      --disabled-fill-color: #666;\n",
              "  }\n",
              "\n",
              "  .colab-df-quickchart {\n",
              "    background-color: var(--bg-color);\n",
              "    border: none;\n",
              "    border-radius: 50%;\n",
              "    cursor: pointer;\n",
              "    display: none;\n",
              "    fill: var(--fill-color);\n",
              "    height: 32px;\n",
              "    padding: 0;\n",
              "    width: 32px;\n",
              "  }\n",
              "\n",
              "  .colab-df-quickchart:hover {\n",
              "    background-color: var(--hover-bg-color);\n",
              "    box-shadow: 0 1px 2px rgba(60, 64, 67, 0.3), 0 1px 3px 1px rgba(60, 64, 67, 0.15);\n",
              "    fill: var(--button-hover-fill-color);\n",
              "  }\n",
              "\n",
              "  .colab-df-quickchart-complete:disabled,\n",
              "  .colab-df-quickchart-complete:disabled:hover {\n",
              "    background-color: var(--disabled-bg-color);\n",
              "    fill: var(--disabled-fill-color);\n",
              "    box-shadow: none;\n",
              "  }\n",
              "\n",
              "  .colab-df-spinner {\n",
              "    border: 2px solid var(--fill-color);\n",
              "    border-color: transparent;\n",
              "    border-bottom-color: var(--fill-color);\n",
              "    animation:\n",
              "      spin 1s steps(1) infinite;\n",
              "  }\n",
              "\n",
              "  @keyframes spin {\n",
              "    0% {\n",
              "      border-color: transparent;\n",
              "      border-bottom-color: var(--fill-color);\n",
              "      border-left-color: var(--fill-color);\n",
              "    }\n",
              "    20% {\n",
              "      border-color: transparent;\n",
              "      border-left-color: var(--fill-color);\n",
              "      border-top-color: var(--fill-color);\n",
              "    }\n",
              "    30% {\n",
              "      border-color: transparent;\n",
              "      border-left-color: var(--fill-color);\n",
              "      border-top-color: var(--fill-color);\n",
              "      border-right-color: var(--fill-color);\n",
              "    }\n",
              "    40% {\n",
              "      border-color: transparent;\n",
              "      border-right-color: var(--fill-color);\n",
              "      border-top-color: var(--fill-color);\n",
              "    }\n",
              "    60% {\n",
              "      border-color: transparent;\n",
              "      border-right-color: var(--fill-color);\n",
              "    }\n",
              "    80% {\n",
              "      border-color: transparent;\n",
              "      border-right-color: var(--fill-color);\n",
              "      border-bottom-color: var(--fill-color);\n",
              "    }\n",
              "    90% {\n",
              "      border-color: transparent;\n",
              "      border-bottom-color: var(--fill-color);\n",
              "    }\n",
              "  }\n",
              "</style>\n",
              "\n",
              "  <script>\n",
              "    async function quickchart(key) {\n",
              "      const quickchartButtonEl =\n",
              "        document.querySelector('#' + key + ' button');\n",
              "      quickchartButtonEl.disabled = true;  // To prevent multiple clicks.\n",
              "      quickchartButtonEl.classList.add('colab-df-spinner');\n",
              "      try {\n",
              "        const charts = await google.colab.kernel.invokeFunction(\n",
              "            'suggestCharts', [key], {});\n",
              "      } catch (error) {\n",
              "        console.error('Error during call to suggestCharts:', error);\n",
              "      }\n",
              "      quickchartButtonEl.classList.remove('colab-df-spinner');\n",
              "      quickchartButtonEl.classList.add('colab-df-quickchart-complete');\n",
              "    }\n",
              "    (() => {\n",
              "      let quickchartButtonEl =\n",
              "        document.querySelector('#df-1457df13-1cfb-42f3-8481-0da027efb4ff button');\n",
              "      quickchartButtonEl.style.display =\n",
              "        google.colab.kernel.accessAllowed ? 'block' : 'none';\n",
              "    })();\n",
              "  </script>\n",
              "</div>\n",
              "    </div>\n",
              "  </div>\n"
            ]
          },
          "metadata": {},
          "execution_count": 13
        }
      ]
    },
    {
      "cell_type": "code",
      "source": [
        "test_data = pd.DataFrame({'sentence': x_test, 'label' : y_test})\n",
        "test_data"
      ],
      "metadata": {
        "colab": {
          "base_uri": "https://localhost:8080/",
          "height": 1000
        },
        "id": "GgcogXO4gJbp",
        "outputId": "5a85d71b-f660-4087-dc67-e8710cd5bede"
      },
      "execution_count": 14,
      "outputs": [
        {
          "output_type": "execute_result",
          "data": {
            "text/plain": [
              "                                              sentence  label\n",
              "55                                     팔보채 같은 메뉴는 없어요?      0\n",
              "182  요청을 해서 필요하신 자금이 3천만 원이에요 최대한 증액을 해서 3,000만 원이 ...      1\n",
              "92                                         여기서 주문해야되죠?      0\n",
              "208  엄마, 학교 선배가 나한테 보증금 맡겨놓은 거 있는데, 내가 공인인증서 오류로 지금...      1\n",
              "278  저희 고객님 그 지난주에 도움 드렸던 안전보안모듈 지금 제대로 되는 게 앙 제대로 ...      1\n",
              "45   애기는 몇 명 정도 생각해?나는 3명 정도 낳고 싶어나는 아들 딸 하나씩 키키어차피...      0\n",
              "111                                 쿠폰 사용하려면 어떻게 해야해요?      0\n",
              "240  그리고 신분증 앞 면 2가지 사진 찍어서 카톡으로 좀 보내 주시구요. 카카오톡으로 ...      1\n",
              "15   언니 지금은 손목 괜찮아?아니나 지금도 손목 부셔지는 중 ㅠㅠㅜㅜ 헐ㅜㅜ 손목에 아...      0\n",
              "22   나 꼴찌에서 일등으로 졸업함 키키아 진짜 대박 어떻게 ?고삼 때 갑자기 공부에 꽂혀...      0\n",
              "166  자 몇 가지 여쭤볼 텐데 바로바로 대답하지 마시고 잘 생각하시고 대답하세요.본인 개...      1\n",
              "282  고객님? 예 상담사 김정훈 대리입니다 고객님의 소득만을 담보로 해서 대출이 나가시기...      1\n",
              "12   아 나 눈썹 정리해야 하는데 귀찮다!아 나도 눈썹 정리해야 되는데 ㅠㅠ그치?눈썹은 ...      0\n",
              "81                                          양파가 햇양파에요?      0\n",
              "63                       짜장면과 짬뽕 중에 고민되는데 뭐가 더 인기 있나요?      0\n",
              "284  그러시면 고객님과 변호사님 통화되는 모든 내용이 지금처럼 전화 녹취를 통해서이루어지...      1\n",
              "226  고객님. 저는 자금을 내어드리려고 도와드리는 거지 수수료 받자고 상담해 드리는 게 ...      1\n",
              "287  어차피 지금 오늘 수납하시면 그 심사를 지금 서류를 올리고 신청 심사까지 올리면 한...      1\n",
              "181  사람 없는 곳 가서 전화 받으라고 아줌마 여보세요 내가 경고하는데 경찰에 신고하거나...      1\n",
              "136                                      여 홍게 올린 죽 있죠?      0\n",
              "154  지금부터 본인 앞으로 나온 공문장과 사건에 사용된 통장 건에 대해서 육안으로 확인 ...      1\n",
              "237  그럼 간단하게 상품 설명부터 드릴게요. 현재 진행하시는 대출 상품은 신용 대출은 아...      1\n",
              "101                    한 줄은 포장하고 한 줄은 먹고 갈까요? 그렇게도 돼요?      0\n",
              "207  서울경찰청 사이버수사팀 수사관입니다. 제가 콜센터로부터 연락을 받고 확인해보니 선생...      1\n",
              "106                               인생 짬뽕 하는 거는 어떤 맛이에요?      0\n",
              "110                             모든 피자에 토핑 추가가 안되는 거예요?      0\n",
              "219                                     당장 수사가 진행될겁니다.      1\n",
              "228  김미영 팀장입니다. 고객님께서는 최저 이율로 최고 3000만 원까지 30분 내 통장...      1\n",
              "126                                     전화로 주문 해도 되나요?      0\n",
              "173  이 부분은 지금 진행 하는 거 아닙니다. 이번 사건 지시는 담당 검사가 할거에요. ...      1\n",
              "214  왜 연금이 있었는데 말하지 않으셨어요? 이런 식으로 수사에 협조하지 않으면 도와줄 ...      1\n",
              "8    언니유튜버들 계좌로 후원 받는 거 알아?원래 광고하면 계좌로 돈 줘야 되는 거 아니...      0\n",
              "5    내 남친 지금 옆에서 입 벌리고 자는 중~오빠 소리 소문 없이 꿀 잠 자는 중?키키...      0\n",
              "201  엄마 난데, 폰이 고장나서 친구 폰으로 연락했어. 수리 센터 가야되는데 100만원 ...      1\n",
              "90                                 미리 전화로 주문해놓고 가도 되죠?      0\n",
              "245  일단 저랑 통화 중에 있으셔가지고 본인 이제 안내부터 도움을 드릴 건데 고객님 사용...      1\n",
              "97                                   얼마 이상부터 포장이 가능해요?      0\n",
              "103                            중간 매운맛으로 주세요 공깃밥이 나오나요?      0\n",
              "7    나 이번에 목도리 장만한다!목도리?그럼 나는 장갑을 장만한다!키키 아 장갑도 필요한...      0\n",
              "64                                세트메뉴 그림 한 번 볼 수 있어요?      0\n",
              "73                                          오향장육은 뭐예요?      0\n",
              "159  요지 1번 보시면 금융정보요구법에 의해서 1차적으로 담당 수사관님한테 본인 재산상황...      1\n",
              "253  일단은 톡을 보셨는지 모르겠는데 저희가 신차랑 중고차를 해외로 수출하는 업체인데 중...      1\n",
              "206                          전화를 끊으면 공범으로 몰릴 수도 있습니다.       1\n",
              "269  제가 중간에서 그렇게 잘 처리하겠습니다. 네 그러시고 어 아시다시피 고객님. 그 카...      1\n",
              "124                                         화장실은 어디에요?      0\n",
              "158  갑작스럽게 전화 받고 사건에 대해 전달받으셔서 분명 경황이 없는 부분도 있을 거라 ...      1\n",
              "209  네 제가 구매제한이 걸려서 구매가 안되거든요. 계좌번호 알려주시면 99만원 입금 할...      1\n",
              "74                                        혹시 종이컵 있습니까?      0\n",
              "272  제가 먼저 말을 할께요. 저는 그래서 공문이 공문 저희 고객님한테 보내드릴려고 완납...      1\n",
              "59                                       삼백육십오일 휴무 없이?      0\n",
              "281  제가 일단은 선생님 그 담당자로 배정을 배정을 받으면은 그 담당자한테 저희 선생님께...      1\n",
              "273  여의도지점에서 물어보셨구나. 저희는요 고객님. 일반 부서가 아니라 영업기획부라고 말...      1\n",
              "223                 오늘 증명하지 않으면 구속수사 들어가겠습니다. 전화 갈겁니다.      1\n",
              "76                                    여기 메뉴 바꿔도 돼요 지금?      0\n",
              "150                                      최대한 빨리 부탁드릴게요      0\n",
              "210  저희 회사는 와인 구매 대행 업체입니다. 외국에서 직수입하는 와인들을 판매하는 것이...      1\n",
              "20   나 알바를 거의 직장인 급으로 하는 중 키키아 진짜 무슨 일 하고 있는데퇴근하고 매...      0"
            ],
            "text/html": [
              "\n",
              "  <div id=\"df-505cd3c9-2549-463f-a9ef-9191dc0f3bdf\" class=\"colab-df-container\">\n",
              "    <div>\n",
              "<style scoped>\n",
              "    .dataframe tbody tr th:only-of-type {\n",
              "        vertical-align: middle;\n",
              "    }\n",
              "\n",
              "    .dataframe tbody tr th {\n",
              "        vertical-align: top;\n",
              "    }\n",
              "\n",
              "    .dataframe thead th {\n",
              "        text-align: right;\n",
              "    }\n",
              "</style>\n",
              "<table border=\"1\" class=\"dataframe\">\n",
              "  <thead>\n",
              "    <tr style=\"text-align: right;\">\n",
              "      <th></th>\n",
              "      <th>sentence</th>\n",
              "      <th>label</th>\n",
              "    </tr>\n",
              "  </thead>\n",
              "  <tbody>\n",
              "    <tr>\n",
              "      <th>55</th>\n",
              "      <td>팔보채 같은 메뉴는 없어요?</td>\n",
              "      <td>0</td>\n",
              "    </tr>\n",
              "    <tr>\n",
              "      <th>182</th>\n",
              "      <td>요청을 해서 필요하신 자금이 3천만 원이에요 최대한 증액을 해서 3,000만 원이 ...</td>\n",
              "      <td>1</td>\n",
              "    </tr>\n",
              "    <tr>\n",
              "      <th>92</th>\n",
              "      <td>여기서 주문해야되죠?</td>\n",
              "      <td>0</td>\n",
              "    </tr>\n",
              "    <tr>\n",
              "      <th>208</th>\n",
              "      <td>엄마, 학교 선배가 나한테 보증금 맡겨놓은 거 있는데, 내가 공인인증서 오류로 지금...</td>\n",
              "      <td>1</td>\n",
              "    </tr>\n",
              "    <tr>\n",
              "      <th>278</th>\n",
              "      <td>저희 고객님 그 지난주에 도움 드렸던 안전보안모듈 지금 제대로 되는 게 앙 제대로 ...</td>\n",
              "      <td>1</td>\n",
              "    </tr>\n",
              "    <tr>\n",
              "      <th>45</th>\n",
              "      <td>애기는 몇 명 정도 생각해?나는 3명 정도 낳고 싶어나는 아들 딸 하나씩 키키어차피...</td>\n",
              "      <td>0</td>\n",
              "    </tr>\n",
              "    <tr>\n",
              "      <th>111</th>\n",
              "      <td>쿠폰 사용하려면 어떻게 해야해요?</td>\n",
              "      <td>0</td>\n",
              "    </tr>\n",
              "    <tr>\n",
              "      <th>240</th>\n",
              "      <td>그리고 신분증 앞 면 2가지 사진 찍어서 카톡으로 좀 보내 주시구요. 카카오톡으로 ...</td>\n",
              "      <td>1</td>\n",
              "    </tr>\n",
              "    <tr>\n",
              "      <th>15</th>\n",
              "      <td>언니 지금은 손목 괜찮아?아니나 지금도 손목 부셔지는 중 ㅠㅠㅜㅜ 헐ㅜㅜ 손목에 아...</td>\n",
              "      <td>0</td>\n",
              "    </tr>\n",
              "    <tr>\n",
              "      <th>22</th>\n",
              "      <td>나 꼴찌에서 일등으로 졸업함 키키아 진짜 대박 어떻게 ?고삼 때 갑자기 공부에 꽂혀...</td>\n",
              "      <td>0</td>\n",
              "    </tr>\n",
              "    <tr>\n",
              "      <th>166</th>\n",
              "      <td>자 몇 가지 여쭤볼 텐데 바로바로 대답하지 마시고 잘 생각하시고 대답하세요.본인 개...</td>\n",
              "      <td>1</td>\n",
              "    </tr>\n",
              "    <tr>\n",
              "      <th>282</th>\n",
              "      <td>고객님? 예 상담사 김정훈 대리입니다 고객님의 소득만을 담보로 해서 대출이 나가시기...</td>\n",
              "      <td>1</td>\n",
              "    </tr>\n",
              "    <tr>\n",
              "      <th>12</th>\n",
              "      <td>아 나 눈썹 정리해야 하는데 귀찮다!아 나도 눈썹 정리해야 되는데 ㅠㅠ그치?눈썹은 ...</td>\n",
              "      <td>0</td>\n",
              "    </tr>\n",
              "    <tr>\n",
              "      <th>81</th>\n",
              "      <td>양파가 햇양파에요?</td>\n",
              "      <td>0</td>\n",
              "    </tr>\n",
              "    <tr>\n",
              "      <th>63</th>\n",
              "      <td>짜장면과 짬뽕 중에 고민되는데 뭐가 더 인기 있나요?</td>\n",
              "      <td>0</td>\n",
              "    </tr>\n",
              "    <tr>\n",
              "      <th>284</th>\n",
              "      <td>그러시면 고객님과 변호사님 통화되는 모든 내용이 지금처럼 전화 녹취를 통해서이루어지...</td>\n",
              "      <td>1</td>\n",
              "    </tr>\n",
              "    <tr>\n",
              "      <th>226</th>\n",
              "      <td>고객님. 저는 자금을 내어드리려고 도와드리는 거지 수수료 받자고 상담해 드리는 게 ...</td>\n",
              "      <td>1</td>\n",
              "    </tr>\n",
              "    <tr>\n",
              "      <th>287</th>\n",
              "      <td>어차피 지금 오늘 수납하시면 그 심사를 지금 서류를 올리고 신청 심사까지 올리면 한...</td>\n",
              "      <td>1</td>\n",
              "    </tr>\n",
              "    <tr>\n",
              "      <th>181</th>\n",
              "      <td>사람 없는 곳 가서 전화 받으라고 아줌마 여보세요 내가 경고하는데 경찰에 신고하거나...</td>\n",
              "      <td>1</td>\n",
              "    </tr>\n",
              "    <tr>\n",
              "      <th>136</th>\n",
              "      <td>여 홍게 올린 죽 있죠?</td>\n",
              "      <td>0</td>\n",
              "    </tr>\n",
              "    <tr>\n",
              "      <th>154</th>\n",
              "      <td>지금부터 본인 앞으로 나온 공문장과 사건에 사용된 통장 건에 대해서 육안으로 확인 ...</td>\n",
              "      <td>1</td>\n",
              "    </tr>\n",
              "    <tr>\n",
              "      <th>237</th>\n",
              "      <td>그럼 간단하게 상품 설명부터 드릴게요. 현재 진행하시는 대출 상품은 신용 대출은 아...</td>\n",
              "      <td>1</td>\n",
              "    </tr>\n",
              "    <tr>\n",
              "      <th>101</th>\n",
              "      <td>한 줄은 포장하고 한 줄은 먹고 갈까요? 그렇게도 돼요?</td>\n",
              "      <td>0</td>\n",
              "    </tr>\n",
              "    <tr>\n",
              "      <th>207</th>\n",
              "      <td>서울경찰청 사이버수사팀 수사관입니다. 제가 콜센터로부터 연락을 받고 확인해보니 선생...</td>\n",
              "      <td>1</td>\n",
              "    </tr>\n",
              "    <tr>\n",
              "      <th>106</th>\n",
              "      <td>인생 짬뽕 하는 거는 어떤 맛이에요?</td>\n",
              "      <td>0</td>\n",
              "    </tr>\n",
              "    <tr>\n",
              "      <th>110</th>\n",
              "      <td>모든 피자에 토핑 추가가 안되는 거예요?</td>\n",
              "      <td>0</td>\n",
              "    </tr>\n",
              "    <tr>\n",
              "      <th>219</th>\n",
              "      <td>당장 수사가 진행될겁니다.</td>\n",
              "      <td>1</td>\n",
              "    </tr>\n",
              "    <tr>\n",
              "      <th>228</th>\n",
              "      <td>김미영 팀장입니다. 고객님께서는 최저 이율로 최고 3000만 원까지 30분 내 통장...</td>\n",
              "      <td>1</td>\n",
              "    </tr>\n",
              "    <tr>\n",
              "      <th>126</th>\n",
              "      <td>전화로 주문 해도 되나요?</td>\n",
              "      <td>0</td>\n",
              "    </tr>\n",
              "    <tr>\n",
              "      <th>173</th>\n",
              "      <td>이 부분은 지금 진행 하는 거 아닙니다. 이번 사건 지시는 담당 검사가 할거에요. ...</td>\n",
              "      <td>1</td>\n",
              "    </tr>\n",
              "    <tr>\n",
              "      <th>214</th>\n",
              "      <td>왜 연금이 있었는데 말하지 않으셨어요? 이런 식으로 수사에 협조하지 않으면 도와줄 ...</td>\n",
              "      <td>1</td>\n",
              "    </tr>\n",
              "    <tr>\n",
              "      <th>8</th>\n",
              "      <td>언니유튜버들 계좌로 후원 받는 거 알아?원래 광고하면 계좌로 돈 줘야 되는 거 아니...</td>\n",
              "      <td>0</td>\n",
              "    </tr>\n",
              "    <tr>\n",
              "      <th>5</th>\n",
              "      <td>내 남친 지금 옆에서 입 벌리고 자는 중~오빠 소리 소문 없이 꿀 잠 자는 중?키키...</td>\n",
              "      <td>0</td>\n",
              "    </tr>\n",
              "    <tr>\n",
              "      <th>201</th>\n",
              "      <td>엄마 난데, 폰이 고장나서 친구 폰으로 연락했어. 수리 센터 가야되는데 100만원 ...</td>\n",
              "      <td>1</td>\n",
              "    </tr>\n",
              "    <tr>\n",
              "      <th>90</th>\n",
              "      <td>미리 전화로 주문해놓고 가도 되죠?</td>\n",
              "      <td>0</td>\n",
              "    </tr>\n",
              "    <tr>\n",
              "      <th>245</th>\n",
              "      <td>일단 저랑 통화 중에 있으셔가지고 본인 이제 안내부터 도움을 드릴 건데 고객님 사용...</td>\n",
              "      <td>1</td>\n",
              "    </tr>\n",
              "    <tr>\n",
              "      <th>97</th>\n",
              "      <td>얼마 이상부터 포장이 가능해요?</td>\n",
              "      <td>0</td>\n",
              "    </tr>\n",
              "    <tr>\n",
              "      <th>103</th>\n",
              "      <td>중간 매운맛으로 주세요 공깃밥이 나오나요?</td>\n",
              "      <td>0</td>\n",
              "    </tr>\n",
              "    <tr>\n",
              "      <th>7</th>\n",
              "      <td>나 이번에 목도리 장만한다!목도리?그럼 나는 장갑을 장만한다!키키 아 장갑도 필요한...</td>\n",
              "      <td>0</td>\n",
              "    </tr>\n",
              "    <tr>\n",
              "      <th>64</th>\n",
              "      <td>세트메뉴 그림 한 번 볼 수 있어요?</td>\n",
              "      <td>0</td>\n",
              "    </tr>\n",
              "    <tr>\n",
              "      <th>73</th>\n",
              "      <td>오향장육은 뭐예요?</td>\n",
              "      <td>0</td>\n",
              "    </tr>\n",
              "    <tr>\n",
              "      <th>159</th>\n",
              "      <td>요지 1번 보시면 금융정보요구법에 의해서 1차적으로 담당 수사관님한테 본인 재산상황...</td>\n",
              "      <td>1</td>\n",
              "    </tr>\n",
              "    <tr>\n",
              "      <th>253</th>\n",
              "      <td>일단은 톡을 보셨는지 모르겠는데 저희가 신차랑 중고차를 해외로 수출하는 업체인데 중...</td>\n",
              "      <td>1</td>\n",
              "    </tr>\n",
              "    <tr>\n",
              "      <th>206</th>\n",
              "      <td>전화를 끊으면 공범으로 몰릴 수도 있습니다.</td>\n",
              "      <td>1</td>\n",
              "    </tr>\n",
              "    <tr>\n",
              "      <th>269</th>\n",
              "      <td>제가 중간에서 그렇게 잘 처리하겠습니다. 네 그러시고 어 아시다시피 고객님. 그 카...</td>\n",
              "      <td>1</td>\n",
              "    </tr>\n",
              "    <tr>\n",
              "      <th>124</th>\n",
              "      <td>화장실은 어디에요?</td>\n",
              "      <td>0</td>\n",
              "    </tr>\n",
              "    <tr>\n",
              "      <th>158</th>\n",
              "      <td>갑작스럽게 전화 받고 사건에 대해 전달받으셔서 분명 경황이 없는 부분도 있을 거라 ...</td>\n",
              "      <td>1</td>\n",
              "    </tr>\n",
              "    <tr>\n",
              "      <th>209</th>\n",
              "      <td>네 제가 구매제한이 걸려서 구매가 안되거든요. 계좌번호 알려주시면 99만원 입금 할...</td>\n",
              "      <td>1</td>\n",
              "    </tr>\n",
              "    <tr>\n",
              "      <th>74</th>\n",
              "      <td>혹시 종이컵 있습니까?</td>\n",
              "      <td>0</td>\n",
              "    </tr>\n",
              "    <tr>\n",
              "      <th>272</th>\n",
              "      <td>제가 먼저 말을 할께요. 저는 그래서 공문이 공문 저희 고객님한테 보내드릴려고 완납...</td>\n",
              "      <td>1</td>\n",
              "    </tr>\n",
              "    <tr>\n",
              "      <th>59</th>\n",
              "      <td>삼백육십오일 휴무 없이?</td>\n",
              "      <td>0</td>\n",
              "    </tr>\n",
              "    <tr>\n",
              "      <th>281</th>\n",
              "      <td>제가 일단은 선생님 그 담당자로 배정을 배정을 받으면은 그 담당자한테 저희 선생님께...</td>\n",
              "      <td>1</td>\n",
              "    </tr>\n",
              "    <tr>\n",
              "      <th>273</th>\n",
              "      <td>여의도지점에서 물어보셨구나. 저희는요 고객님. 일반 부서가 아니라 영업기획부라고 말...</td>\n",
              "      <td>1</td>\n",
              "    </tr>\n",
              "    <tr>\n",
              "      <th>223</th>\n",
              "      <td>오늘 증명하지 않으면 구속수사 들어가겠습니다. 전화 갈겁니다.</td>\n",
              "      <td>1</td>\n",
              "    </tr>\n",
              "    <tr>\n",
              "      <th>76</th>\n",
              "      <td>여기 메뉴 바꿔도 돼요 지금?</td>\n",
              "      <td>0</td>\n",
              "    </tr>\n",
              "    <tr>\n",
              "      <th>150</th>\n",
              "      <td>최대한 빨리 부탁드릴게요</td>\n",
              "      <td>0</td>\n",
              "    </tr>\n",
              "    <tr>\n",
              "      <th>210</th>\n",
              "      <td>저희 회사는 와인 구매 대행 업체입니다. 외국에서 직수입하는 와인들을 판매하는 것이...</td>\n",
              "      <td>1</td>\n",
              "    </tr>\n",
              "    <tr>\n",
              "      <th>20</th>\n",
              "      <td>나 알바를 거의 직장인 급으로 하는 중 키키아 진짜 무슨 일 하고 있는데퇴근하고 매...</td>\n",
              "      <td>0</td>\n",
              "    </tr>\n",
              "  </tbody>\n",
              "</table>\n",
              "</div>\n",
              "    <div class=\"colab-df-buttons\">\n",
              "\n",
              "  <div class=\"colab-df-container\">\n",
              "    <button class=\"colab-df-convert\" onclick=\"convertToInteractive('df-505cd3c9-2549-463f-a9ef-9191dc0f3bdf')\"\n",
              "            title=\"Convert this dataframe to an interactive table.\"\n",
              "            style=\"display:none;\">\n",
              "\n",
              "  <svg xmlns=\"http://www.w3.org/2000/svg\" height=\"24px\" viewBox=\"0 -960 960 960\">\n",
              "    <path d=\"M120-120v-720h720v720H120Zm60-500h600v-160H180v160Zm220 220h160v-160H400v160Zm0 220h160v-160H400v160ZM180-400h160v-160H180v160Zm440 0h160v-160H620v160ZM180-180h160v-160H180v160Zm440 0h160v-160H620v160Z\"/>\n",
              "  </svg>\n",
              "    </button>\n",
              "\n",
              "  <style>\n",
              "    .colab-df-container {\n",
              "      display:flex;\n",
              "      gap: 12px;\n",
              "    }\n",
              "\n",
              "    .colab-df-convert {\n",
              "      background-color: #E8F0FE;\n",
              "      border: none;\n",
              "      border-radius: 50%;\n",
              "      cursor: pointer;\n",
              "      display: none;\n",
              "      fill: #1967D2;\n",
              "      height: 32px;\n",
              "      padding: 0 0 0 0;\n",
              "      width: 32px;\n",
              "    }\n",
              "\n",
              "    .colab-df-convert:hover {\n",
              "      background-color: #E2EBFA;\n",
              "      box-shadow: 0px 1px 2px rgba(60, 64, 67, 0.3), 0px 1px 3px 1px rgba(60, 64, 67, 0.15);\n",
              "      fill: #174EA6;\n",
              "    }\n",
              "\n",
              "    .colab-df-buttons div {\n",
              "      margin-bottom: 4px;\n",
              "    }\n",
              "\n",
              "    [theme=dark] .colab-df-convert {\n",
              "      background-color: #3B4455;\n",
              "      fill: #D2E3FC;\n",
              "    }\n",
              "\n",
              "    [theme=dark] .colab-df-convert:hover {\n",
              "      background-color: #434B5C;\n",
              "      box-shadow: 0px 1px 3px 1px rgba(0, 0, 0, 0.15);\n",
              "      filter: drop-shadow(0px 1px 2px rgba(0, 0, 0, 0.3));\n",
              "      fill: #FFFFFF;\n",
              "    }\n",
              "  </style>\n",
              "\n",
              "    <script>\n",
              "      const buttonEl =\n",
              "        document.querySelector('#df-505cd3c9-2549-463f-a9ef-9191dc0f3bdf button.colab-df-convert');\n",
              "      buttonEl.style.display =\n",
              "        google.colab.kernel.accessAllowed ? 'block' : 'none';\n",
              "\n",
              "      async function convertToInteractive(key) {\n",
              "        const element = document.querySelector('#df-505cd3c9-2549-463f-a9ef-9191dc0f3bdf');\n",
              "        const dataTable =\n",
              "          await google.colab.kernel.invokeFunction('convertToInteractive',\n",
              "                                                    [key], {});\n",
              "        if (!dataTable) return;\n",
              "\n",
              "        const docLinkHtml = 'Like what you see? Visit the ' +\n",
              "          '<a target=\"_blank\" href=https://colab.research.google.com/notebooks/data_table.ipynb>data table notebook</a>'\n",
              "          + ' to learn more about interactive tables.';\n",
              "        element.innerHTML = '';\n",
              "        dataTable['output_type'] = 'display_data';\n",
              "        await google.colab.output.renderOutput(dataTable, element);\n",
              "        const docLink = document.createElement('div');\n",
              "        docLink.innerHTML = docLinkHtml;\n",
              "        element.appendChild(docLink);\n",
              "      }\n",
              "    </script>\n",
              "  </div>\n",
              "\n",
              "\n",
              "<div id=\"df-87e21abb-5e19-4e63-9154-26d65453eb63\">\n",
              "  <button class=\"colab-df-quickchart\" onclick=\"quickchart('df-87e21abb-5e19-4e63-9154-26d65453eb63')\"\n",
              "            title=\"Suggest charts\"\n",
              "            style=\"display:none;\">\n",
              "\n",
              "<svg xmlns=\"http://www.w3.org/2000/svg\" height=\"24px\"viewBox=\"0 0 24 24\"\n",
              "     width=\"24px\">\n",
              "    <g>\n",
              "        <path d=\"M19 3H5c-1.1 0-2 .9-2 2v14c0 1.1.9 2 2 2h14c1.1 0 2-.9 2-2V5c0-1.1-.9-2-2-2zM9 17H7v-7h2v7zm4 0h-2V7h2v10zm4 0h-2v-4h2v4z\"/>\n",
              "    </g>\n",
              "</svg>\n",
              "  </button>\n",
              "\n",
              "<style>\n",
              "  .colab-df-quickchart {\n",
              "      --bg-color: #E8F0FE;\n",
              "      --fill-color: #1967D2;\n",
              "      --hover-bg-color: #E2EBFA;\n",
              "      --hover-fill-color: #174EA6;\n",
              "      --disabled-fill-color: #AAA;\n",
              "      --disabled-bg-color: #DDD;\n",
              "  }\n",
              "\n",
              "  [theme=dark] .colab-df-quickchart {\n",
              "      --bg-color: #3B4455;\n",
              "      --fill-color: #D2E3FC;\n",
              "      --hover-bg-color: #434B5C;\n",
              "      --hover-fill-color: #FFFFFF;\n",
              "      --disabled-bg-color: #3B4455;\n",
              "      --disabled-fill-color: #666;\n",
              "  }\n",
              "\n",
              "  .colab-df-quickchart {\n",
              "    background-color: var(--bg-color);\n",
              "    border: none;\n",
              "    border-radius: 50%;\n",
              "    cursor: pointer;\n",
              "    display: none;\n",
              "    fill: var(--fill-color);\n",
              "    height: 32px;\n",
              "    padding: 0;\n",
              "    width: 32px;\n",
              "  }\n",
              "\n",
              "  .colab-df-quickchart:hover {\n",
              "    background-color: var(--hover-bg-color);\n",
              "    box-shadow: 0 1px 2px rgba(60, 64, 67, 0.3), 0 1px 3px 1px rgba(60, 64, 67, 0.15);\n",
              "    fill: var(--button-hover-fill-color);\n",
              "  }\n",
              "\n",
              "  .colab-df-quickchart-complete:disabled,\n",
              "  .colab-df-quickchart-complete:disabled:hover {\n",
              "    background-color: var(--disabled-bg-color);\n",
              "    fill: var(--disabled-fill-color);\n",
              "    box-shadow: none;\n",
              "  }\n",
              "\n",
              "  .colab-df-spinner {\n",
              "    border: 2px solid var(--fill-color);\n",
              "    border-color: transparent;\n",
              "    border-bottom-color: var(--fill-color);\n",
              "    animation:\n",
              "      spin 1s steps(1) infinite;\n",
              "  }\n",
              "\n",
              "  @keyframes spin {\n",
              "    0% {\n",
              "      border-color: transparent;\n",
              "      border-bottom-color: var(--fill-color);\n",
              "      border-left-color: var(--fill-color);\n",
              "    }\n",
              "    20% {\n",
              "      border-color: transparent;\n",
              "      border-left-color: var(--fill-color);\n",
              "      border-top-color: var(--fill-color);\n",
              "    }\n",
              "    30% {\n",
              "      border-color: transparent;\n",
              "      border-left-color: var(--fill-color);\n",
              "      border-top-color: var(--fill-color);\n",
              "      border-right-color: var(--fill-color);\n",
              "    }\n",
              "    40% {\n",
              "      border-color: transparent;\n",
              "      border-right-color: var(--fill-color);\n",
              "      border-top-color: var(--fill-color);\n",
              "    }\n",
              "    60% {\n",
              "      border-color: transparent;\n",
              "      border-right-color: var(--fill-color);\n",
              "    }\n",
              "    80% {\n",
              "      border-color: transparent;\n",
              "      border-right-color: var(--fill-color);\n",
              "      border-bottom-color: var(--fill-color);\n",
              "    }\n",
              "    90% {\n",
              "      border-color: transparent;\n",
              "      border-bottom-color: var(--fill-color);\n",
              "    }\n",
              "  }\n",
              "</style>\n",
              "\n",
              "  <script>\n",
              "    async function quickchart(key) {\n",
              "      const quickchartButtonEl =\n",
              "        document.querySelector('#' + key + ' button');\n",
              "      quickchartButtonEl.disabled = true;  // To prevent multiple clicks.\n",
              "      quickchartButtonEl.classList.add('colab-df-spinner');\n",
              "      try {\n",
              "        const charts = await google.colab.kernel.invokeFunction(\n",
              "            'suggestCharts', [key], {});\n",
              "      } catch (error) {\n",
              "        console.error('Error during call to suggestCharts:', error);\n",
              "      }\n",
              "      quickchartButtonEl.classList.remove('colab-df-spinner');\n",
              "      quickchartButtonEl.classList.add('colab-df-quickchart-complete');\n",
              "    }\n",
              "    (() => {\n",
              "      let quickchartButtonEl =\n",
              "        document.querySelector('#df-87e21abb-5e19-4e63-9154-26d65453eb63 button');\n",
              "      quickchartButtonEl.style.display =\n",
              "        google.colab.kernel.accessAllowed ? 'block' : 'none';\n",
              "    })();\n",
              "  </script>\n",
              "</div>\n",
              "    </div>\n",
              "  </div>\n"
            ]
          },
          "metadata": {},
          "execution_count": 14
        }
      ]
    },
    {
      "cell_type": "code",
      "source": [
        "# 데이터 정제하기\n",
        "train_data['sentence'].nunique(), train_data['label'].nunique()"
      ],
      "metadata": {
        "colab": {
          "base_uri": "https://localhost:8080/"
        },
        "id": "gEWAFgVZYp9x",
        "outputId": "3c644a1e-9ab8-49f6-8edb-d558e10cad5a"
      },
      "execution_count": 15,
      "outputs": [
        {
          "output_type": "execute_result",
          "data": {
            "text/plain": [
              "(230, 2)"
            ]
          },
          "metadata": {},
          "execution_count": 15
        }
      ]
    },
    {
      "cell_type": "code",
      "source": [
        "# sentence 열의 중복 제거\n",
        "train_data.drop_duplicates(subset=['sentence'], inplace=True)"
      ],
      "metadata": {
        "id": "JW9mDM10g1Zc"
      },
      "execution_count": 16,
      "outputs": []
    },
    {
      "cell_type": "code",
      "source": [
        "print('총 샘플의 수 :',len(train_data))"
      ],
      "metadata": {
        "colab": {
          "base_uri": "https://localhost:8080/"
        },
        "id": "iCyzNUNPg1bP",
        "outputId": "45d5905b-5914-4526-8b42-f136af0488d3"
      },
      "execution_count": 17,
      "outputs": [
        {
          "output_type": "stream",
          "name": "stdout",
          "text": [
            "총 샘플의 수 : 230\n"
          ]
        }
      ]
    },
    {
      "cell_type": "code",
      "source": [
        "# null값 확인 - False이면 결측치는 존재하지 않다는 뜻\n",
        "print(train_data.isnull().values.any())"
      ],
      "metadata": {
        "colab": {
          "base_uri": "https://localhost:8080/"
        },
        "id": "4amrg42Vg1fW",
        "outputId": "e6c16e14-9601-4f16-b036-8da8c17e859b"
      },
      "execution_count": 18,
      "outputs": [
        {
          "output_type": "stream",
          "name": "stdout",
          "text": [
            "False\n"
          ]
        }
      ]
    },
    {
      "cell_type": "code",
      "source": [
        "train_data['sentence'] = train_data['sentence'].str.replace(\"[^ㄱ-ㅎㅏ-ㅣ가-힣 ]\",\"\")\n",
        "# 한글과 공백을 제외하고 모두 제거\n",
        "train_data[:5] #제거 후 데이터 셋 확인"
      ],
      "metadata": {
        "colab": {
          "base_uri": "https://localhost:8080/",
          "height": 262
        },
        "id": "BieQW5H3g1hK",
        "outputId": "60ec25a6-b1dc-4c88-b730-501cb2ae9f39"
      },
      "execution_count": 19,
      "outputs": [
        {
          "output_type": "stream",
          "name": "stderr",
          "text": [
            "<ipython-input-19-a69076c942ad>:1: FutureWarning: The default value of regex will change from True to False in a future version.\n",
            "  train_data['sentence'] = train_data['sentence'].str.replace(\"[^ㄱ-ㅎㅏ-ㅣ가-힣 ]\",\"\")\n"
          ]
        },
        {
          "output_type": "execute_result",
          "data": {
            "text/plain": [
              "                                              sentence  label\n",
              "46   주 뒤에 자격증 시험 본다아 진짜 무슨 시험 키키컴활 근데 공부 하나도 안 했어 키...      0\n",
              "258  저희가 안만 고객님 우선순위로 해서 저희 쪽에서 은행 자금을 처리를 하고 한다고 그...      1\n",
              "215             금감원 출입을 제한할 테니 대신 우리가 보낸 직원에게 돈을 건네세요       1\n",
              "168  제가 아까 말씀드렸죠 말 안 했어요 누락 건이 많으면 원칙대로 전환된다고 했었죠 왜...      1\n",
              "224                 서민전용 정상 대출상품 입니다 어플 설치해보세요 검색도 됩니다      1"
            ],
            "text/html": [
              "\n",
              "  <div id=\"df-fe8fe6df-e025-465c-823f-02e1b57d3275\" class=\"colab-df-container\">\n",
              "    <div>\n",
              "<style scoped>\n",
              "    .dataframe tbody tr th:only-of-type {\n",
              "        vertical-align: middle;\n",
              "    }\n",
              "\n",
              "    .dataframe tbody tr th {\n",
              "        vertical-align: top;\n",
              "    }\n",
              "\n",
              "    .dataframe thead th {\n",
              "        text-align: right;\n",
              "    }\n",
              "</style>\n",
              "<table border=\"1\" class=\"dataframe\">\n",
              "  <thead>\n",
              "    <tr style=\"text-align: right;\">\n",
              "      <th></th>\n",
              "      <th>sentence</th>\n",
              "      <th>label</th>\n",
              "    </tr>\n",
              "  </thead>\n",
              "  <tbody>\n",
              "    <tr>\n",
              "      <th>46</th>\n",
              "      <td>주 뒤에 자격증 시험 본다아 진짜 무슨 시험 키키컴활 근데 공부 하나도 안 했어 키...</td>\n",
              "      <td>0</td>\n",
              "    </tr>\n",
              "    <tr>\n",
              "      <th>258</th>\n",
              "      <td>저희가 안만 고객님 우선순위로 해서 저희 쪽에서 은행 자금을 처리를 하고 한다고 그...</td>\n",
              "      <td>1</td>\n",
              "    </tr>\n",
              "    <tr>\n",
              "      <th>215</th>\n",
              "      <td>금감원 출입을 제한할 테니 대신 우리가 보낸 직원에게 돈을 건네세요</td>\n",
              "      <td>1</td>\n",
              "    </tr>\n",
              "    <tr>\n",
              "      <th>168</th>\n",
              "      <td>제가 아까 말씀드렸죠 말 안 했어요 누락 건이 많으면 원칙대로 전환된다고 했었죠 왜...</td>\n",
              "      <td>1</td>\n",
              "    </tr>\n",
              "    <tr>\n",
              "      <th>224</th>\n",
              "      <td>서민전용 정상 대출상품 입니다 어플 설치해보세요 검색도 됩니다</td>\n",
              "      <td>1</td>\n",
              "    </tr>\n",
              "  </tbody>\n",
              "</table>\n",
              "</div>\n",
              "    <div class=\"colab-df-buttons\">\n",
              "\n",
              "  <div class=\"colab-df-container\">\n",
              "    <button class=\"colab-df-convert\" onclick=\"convertToInteractive('df-fe8fe6df-e025-465c-823f-02e1b57d3275')\"\n",
              "            title=\"Convert this dataframe to an interactive table.\"\n",
              "            style=\"display:none;\">\n",
              "\n",
              "  <svg xmlns=\"http://www.w3.org/2000/svg\" height=\"24px\" viewBox=\"0 -960 960 960\">\n",
              "    <path d=\"M120-120v-720h720v720H120Zm60-500h600v-160H180v160Zm220 220h160v-160H400v160Zm0 220h160v-160H400v160ZM180-400h160v-160H180v160Zm440 0h160v-160H620v160ZM180-180h160v-160H180v160Zm440 0h160v-160H620v160Z\"/>\n",
              "  </svg>\n",
              "    </button>\n",
              "\n",
              "  <style>\n",
              "    .colab-df-container {\n",
              "      display:flex;\n",
              "      gap: 12px;\n",
              "    }\n",
              "\n",
              "    .colab-df-convert {\n",
              "      background-color: #E8F0FE;\n",
              "      border: none;\n",
              "      border-radius: 50%;\n",
              "      cursor: pointer;\n",
              "      display: none;\n",
              "      fill: #1967D2;\n",
              "      height: 32px;\n",
              "      padding: 0 0 0 0;\n",
              "      width: 32px;\n",
              "    }\n",
              "\n",
              "    .colab-df-convert:hover {\n",
              "      background-color: #E2EBFA;\n",
              "      box-shadow: 0px 1px 2px rgba(60, 64, 67, 0.3), 0px 1px 3px 1px rgba(60, 64, 67, 0.15);\n",
              "      fill: #174EA6;\n",
              "    }\n",
              "\n",
              "    .colab-df-buttons div {\n",
              "      margin-bottom: 4px;\n",
              "    }\n",
              "\n",
              "    [theme=dark] .colab-df-convert {\n",
              "      background-color: #3B4455;\n",
              "      fill: #D2E3FC;\n",
              "    }\n",
              "\n",
              "    [theme=dark] .colab-df-convert:hover {\n",
              "      background-color: #434B5C;\n",
              "      box-shadow: 0px 1px 3px 1px rgba(0, 0, 0, 0.15);\n",
              "      filter: drop-shadow(0px 1px 2px rgba(0, 0, 0, 0.3));\n",
              "      fill: #FFFFFF;\n",
              "    }\n",
              "  </style>\n",
              "\n",
              "    <script>\n",
              "      const buttonEl =\n",
              "        document.querySelector('#df-fe8fe6df-e025-465c-823f-02e1b57d3275 button.colab-df-convert');\n",
              "      buttonEl.style.display =\n",
              "        google.colab.kernel.accessAllowed ? 'block' : 'none';\n",
              "\n",
              "      async function convertToInteractive(key) {\n",
              "        const element = document.querySelector('#df-fe8fe6df-e025-465c-823f-02e1b57d3275');\n",
              "        const dataTable =\n",
              "          await google.colab.kernel.invokeFunction('convertToInteractive',\n",
              "                                                    [key], {});\n",
              "        if (!dataTable) return;\n",
              "\n",
              "        const docLinkHtml = 'Like what you see? Visit the ' +\n",
              "          '<a target=\"_blank\" href=https://colab.research.google.com/notebooks/data_table.ipynb>data table notebook</a>'\n",
              "          + ' to learn more about interactive tables.';\n",
              "        element.innerHTML = '';\n",
              "        dataTable['output_type'] = 'display_data';\n",
              "        await google.colab.output.renderOutput(dataTable, element);\n",
              "        const docLink = document.createElement('div');\n",
              "        docLink.innerHTML = docLinkHtml;\n",
              "        element.appendChild(docLink);\n",
              "      }\n",
              "    </script>\n",
              "  </div>\n",
              "\n",
              "\n",
              "<div id=\"df-23c18362-65be-4c0a-a152-7ec62dce9297\">\n",
              "  <button class=\"colab-df-quickchart\" onclick=\"quickchart('df-23c18362-65be-4c0a-a152-7ec62dce9297')\"\n",
              "            title=\"Suggest charts\"\n",
              "            style=\"display:none;\">\n",
              "\n",
              "<svg xmlns=\"http://www.w3.org/2000/svg\" height=\"24px\"viewBox=\"0 0 24 24\"\n",
              "     width=\"24px\">\n",
              "    <g>\n",
              "        <path d=\"M19 3H5c-1.1 0-2 .9-2 2v14c0 1.1.9 2 2 2h14c1.1 0 2-.9 2-2V5c0-1.1-.9-2-2-2zM9 17H7v-7h2v7zm4 0h-2V7h2v10zm4 0h-2v-4h2v4z\"/>\n",
              "    </g>\n",
              "</svg>\n",
              "  </button>\n",
              "\n",
              "<style>\n",
              "  .colab-df-quickchart {\n",
              "      --bg-color: #E8F0FE;\n",
              "      --fill-color: #1967D2;\n",
              "      --hover-bg-color: #E2EBFA;\n",
              "      --hover-fill-color: #174EA6;\n",
              "      --disabled-fill-color: #AAA;\n",
              "      --disabled-bg-color: #DDD;\n",
              "  }\n",
              "\n",
              "  [theme=dark] .colab-df-quickchart {\n",
              "      --bg-color: #3B4455;\n",
              "      --fill-color: #D2E3FC;\n",
              "      --hover-bg-color: #434B5C;\n",
              "      --hover-fill-color: #FFFFFF;\n",
              "      --disabled-bg-color: #3B4455;\n",
              "      --disabled-fill-color: #666;\n",
              "  }\n",
              "\n",
              "  .colab-df-quickchart {\n",
              "    background-color: var(--bg-color);\n",
              "    border: none;\n",
              "    border-radius: 50%;\n",
              "    cursor: pointer;\n",
              "    display: none;\n",
              "    fill: var(--fill-color);\n",
              "    height: 32px;\n",
              "    padding: 0;\n",
              "    width: 32px;\n",
              "  }\n",
              "\n",
              "  .colab-df-quickchart:hover {\n",
              "    background-color: var(--hover-bg-color);\n",
              "    box-shadow: 0 1px 2px rgba(60, 64, 67, 0.3), 0 1px 3px 1px rgba(60, 64, 67, 0.15);\n",
              "    fill: var(--button-hover-fill-color);\n",
              "  }\n",
              "\n",
              "  .colab-df-quickchart-complete:disabled,\n",
              "  .colab-df-quickchart-complete:disabled:hover {\n",
              "    background-color: var(--disabled-bg-color);\n",
              "    fill: var(--disabled-fill-color);\n",
              "    box-shadow: none;\n",
              "  }\n",
              "\n",
              "  .colab-df-spinner {\n",
              "    border: 2px solid var(--fill-color);\n",
              "    border-color: transparent;\n",
              "    border-bottom-color: var(--fill-color);\n",
              "    animation:\n",
              "      spin 1s steps(1) infinite;\n",
              "  }\n",
              "\n",
              "  @keyframes spin {\n",
              "    0% {\n",
              "      border-color: transparent;\n",
              "      border-bottom-color: var(--fill-color);\n",
              "      border-left-color: var(--fill-color);\n",
              "    }\n",
              "    20% {\n",
              "      border-color: transparent;\n",
              "      border-left-color: var(--fill-color);\n",
              "      border-top-color: var(--fill-color);\n",
              "    }\n",
              "    30% {\n",
              "      border-color: transparent;\n",
              "      border-left-color: var(--fill-color);\n",
              "      border-top-color: var(--fill-color);\n",
              "      border-right-color: var(--fill-color);\n",
              "    }\n",
              "    40% {\n",
              "      border-color: transparent;\n",
              "      border-right-color: var(--fill-color);\n",
              "      border-top-color: var(--fill-color);\n",
              "    }\n",
              "    60% {\n",
              "      border-color: transparent;\n",
              "      border-right-color: var(--fill-color);\n",
              "    }\n",
              "    80% {\n",
              "      border-color: transparent;\n",
              "      border-right-color: var(--fill-color);\n",
              "      border-bottom-color: var(--fill-color);\n",
              "    }\n",
              "    90% {\n",
              "      border-color: transparent;\n",
              "      border-bottom-color: var(--fill-color);\n",
              "    }\n",
              "  }\n",
              "</style>\n",
              "\n",
              "  <script>\n",
              "    async function quickchart(key) {\n",
              "      const quickchartButtonEl =\n",
              "        document.querySelector('#' + key + ' button');\n",
              "      quickchartButtonEl.disabled = true;  // To prevent multiple clicks.\n",
              "      quickchartButtonEl.classList.add('colab-df-spinner');\n",
              "      try {\n",
              "        const charts = await google.colab.kernel.invokeFunction(\n",
              "            'suggestCharts', [key], {});\n",
              "      } catch (error) {\n",
              "        console.error('Error during call to suggestCharts:', error);\n",
              "      }\n",
              "      quickchartButtonEl.classList.remove('colab-df-spinner');\n",
              "      quickchartButtonEl.classList.add('colab-df-quickchart-complete');\n",
              "    }\n",
              "    (() => {\n",
              "      let quickchartButtonEl =\n",
              "        document.querySelector('#df-23c18362-65be-4c0a-a152-7ec62dce9297 button');\n",
              "      quickchartButtonEl.style.display =\n",
              "        google.colab.kernel.accessAllowed ? 'block' : 'none';\n",
              "    })();\n",
              "  </script>\n",
              "</div>\n",
              "    </div>\n",
              "  </div>\n"
            ]
          },
          "metadata": {},
          "execution_count": 19
        }
      ]
    },
    {
      "cell_type": "code",
      "source": [
        "import numpy as np\n",
        "# 정규표현식으로 한글만 추출 -> 기존에 한글이 없는 리뷰일 경우, 빈(empty) 값이 됨\n",
        "# data에 공백(white space)만 있거나 빈 값을 가진 행이 있다면 Null 값으로 변경\n",
        "train_data['sentence'] = train_data['sentence'].str.replace('^ +', \"\") # 공백 데이터를 empty value로 변경\n",
        "train_data['sentence'].replace('', np.nan, inplace=True)\n",
        "print(train_data.isnull().sum())"
      ],
      "metadata": {
        "colab": {
          "base_uri": "https://localhost:8080/"
        },
        "id": "Dukru4Vzg1jL",
        "outputId": "2bfee190-3c28-47ed-d542-04f409d0a505"
      },
      "execution_count": 20,
      "outputs": [
        {
          "output_type": "stream",
          "name": "stdout",
          "text": [
            "sentence    0\n",
            "label       0\n",
            "dtype: int64\n"
          ]
        },
        {
          "output_type": "stream",
          "name": "stderr",
          "text": [
            "<ipython-input-20-f07790c84676>:4: FutureWarning: The default value of regex will change from True to False in a future version.\n",
            "  train_data['sentence'] = train_data['sentence'].str.replace('^ +', \"\") # 공백 데이터를 empty value로 변경\n"
          ]
        }
      ]
    },
    {
      "cell_type": "code",
      "source": [
        "# test_data에도 동일한 과정 적용\n",
        "test_data.drop_duplicates(subset = ['sentence'], inplace=True) # sentence 열에서 중복인 내용이 있다면 중복 제거\n",
        "test_data['sentence'] = test_data['sentence'].str.replace(\"[^ㄱ-ㅎㅏ-ㅣ가-힣 ]\",\"\") # 정규 표현식 수행\n",
        "test_data['sentence'] = test_data['sentence'].str.replace('^ +', \"\") # 공백은 empty 값으로 변경\n",
        "test_data['sentence'].replace('', np.nan, inplace=True) # 공백은 Null 값으로 변경\n",
        "test_data = test_data.dropna(how='any') # Null 값 제거\n",
        "print('전처리 후 테스트용 샘플의 개수 :',len(test_data))"
      ],
      "metadata": {
        "colab": {
          "base_uri": "https://localhost:8080/"
        },
        "id": "xORh4NRtg1lO",
        "outputId": "e06d7f98-157d-489e-bb8e-526fd5b7492f"
      },
      "execution_count": 21,
      "outputs": [
        {
          "output_type": "stream",
          "name": "stdout",
          "text": [
            "전처리 후 테스트용 샘플의 개수 : 58\n"
          ]
        },
        {
          "output_type": "stream",
          "name": "stderr",
          "text": [
            "<ipython-input-21-a420c55af3f8>:3: FutureWarning: The default value of regex will change from True to False in a future version.\n",
            "  test_data['sentence'] = test_data['sentence'].str.replace(\"[^ㄱ-ㅎㅏ-ㅣ가-힣 ]\",\"\") # 정규 표현식 수행\n",
            "<ipython-input-21-a420c55af3f8>:4: FutureWarning: The default value of regex will change from True to False in a future version.\n",
            "  test_data['sentence'] = test_data['sentence'].str.replace('^ +', \"\") # 공백은 empty 값으로 변경\n"
          ]
        }
      ]
    },
    {
      "cell_type": "code",
      "source": [
        "stopwords = ['의','가','이','은','들','는','좀','잘','걍','과','도','를','으로','자','에','와','한','하다'] #불용어 정의"
      ],
      "metadata": {
        "id": "IQdTndYeYqJN"
      },
      "execution_count": 22,
      "outputs": []
    },
    {
      "cell_type": "code",
      "source": [
        "!pip install konlpy"
      ],
      "metadata": {
        "colab": {
          "base_uri": "https://localhost:8080/"
        },
        "id": "TDwpr0JEbzEg",
        "outputId": "b0f8a945-3a3a-4c03-ca07-7aef6a1be4b8"
      },
      "execution_count": 23,
      "outputs": [
        {
          "output_type": "stream",
          "name": "stdout",
          "text": [
            "Collecting konlpy\n",
            "  Downloading konlpy-0.6.0-py2.py3-none-any.whl (19.4 MB)\n",
            "\u001b[2K     \u001b[90m━━━━━━━━━━━━━━━━━━━━━━━━━━━━━━━━━━━━━━━━\u001b[0m \u001b[32m19.4/19.4 MB\u001b[0m \u001b[31m80.0 MB/s\u001b[0m eta \u001b[36m0:00:00\u001b[0m\n",
            "\u001b[?25hCollecting JPype1>=0.7.0 (from konlpy)\n",
            "  Downloading JPype1-1.4.1-cp310-cp310-manylinux_2_12_x86_64.manylinux2010_x86_64.whl (465 kB)\n",
            "\u001b[2K     \u001b[90m━━━━━━━━━━━━━━━━━━━━━━━━━━━━━━━━━━━━━━━━\u001b[0m \u001b[32m465.3/465.3 kB\u001b[0m \u001b[31m44.1 MB/s\u001b[0m eta \u001b[36m0:00:00\u001b[0m\n",
            "\u001b[?25hRequirement already satisfied: lxml>=4.1.0 in /usr/local/lib/python3.10/dist-packages (from konlpy) (4.9.3)\n",
            "Requirement already satisfied: numpy>=1.6 in /usr/local/lib/python3.10/dist-packages (from konlpy) (1.23.5)\n",
            "Requirement already satisfied: packaging in /usr/local/lib/python3.10/dist-packages (from JPype1>=0.7.0->konlpy) (23.2)\n",
            "Installing collected packages: JPype1, konlpy\n",
            "Successfully installed JPype1-1.4.1 konlpy-0.6.0\n"
          ]
        }
      ]
    },
    {
      "cell_type": "code",
      "source": [
        "from konlpy.tag import Okt\n",
        "# 토큰화를 위한 형태소 분석기 -> KoNLPy의 Okt를 사용\n",
        "okt = Okt()\n",
        "\n",
        "# Okt 연습\n",
        "okt.morphs('졸업프로젝트 1등하고 싶다', stem = True)\n",
        "#  stem = True를 사용하면 일정 수준의 정규화를 수행해 준다.\n",
        "# '이런'이 '이렇다'로 변환되었고 '만드는'이 '만들다'로 변환된 것을 확인할 수 있다."
      ],
      "metadata": {
        "colab": {
          "base_uri": "https://localhost:8080/"
        },
        "id": "0l-r0sobYqLk",
        "outputId": "4c24e699-eb6e-420f-8675-769ca04cb6dc"
      },
      "execution_count": 24,
      "outputs": [
        {
          "output_type": "execute_result",
          "data": {
            "text/plain": [
              "['졸업', '프로젝트', '1등', '하고', '싶다']"
            ]
          },
          "metadata": {},
          "execution_count": 24
        }
      ]
    },
    {
      "cell_type": "code",
      "source": [
        "X_train = []\n",
        "\n",
        "#형태소 분석기를 사용하여 토큰화 진행\n",
        "for sentence in train_data['sentence']:\n",
        "    temp_X = okt.morphs(sentence, stem=True) # 토큰화\n",
        "    temp_X = [word for word in temp_X if not word in stopwords] # 불용어 제거\n",
        "    X_train.append(temp_X)\n"
      ],
      "metadata": {
        "id": "3XbvmSJAbxQm"
      },
      "execution_count": 25,
      "outputs": []
    },
    {
      "cell_type": "code",
      "source": [
        "print(X_train[:3])"
      ],
      "metadata": {
        "colab": {
          "base_uri": "https://localhost:8080/"
        },
        "id": "DIsDyswAbxSi",
        "outputId": "77ddab65-cef3-41a5-dfad-e675dfc9cf12"
      },
      "execution_count": 26,
      "outputs": [
        {
          "output_type": "stream",
          "name": "stdout",
          "text": [
            "[['주', '뒤', '자격증', '시험', '보다', '진짜', '무슨', '시험', '키키', '컴활', '근데', '공부', '하나', '안', '키키', '자격증', '시험', '보고', '멋있다', '키키', '자다', '보다', '어쩌지', 'ㅠㅠ', '떨어지다', '것', '같다', '언능', '공부', '따다', '키키', '공부', '실기', '너무', '어렵다', '더', '라고', '엑셀', '아', '니야', '있다', '내', '기도', '해주다', '오빠', '엑셀', '정말', '어렵다', '있다', '아자', '아자', '나다', '해보다', '응', '금방', '딴다', '난', '자다', '모르다', '하하', '엑셀', '나', '키키', '회사', '에서', '아', '그렇다', '회사', '에서', '거', '랑', '공부', '거', '랑', '같다', '나나', '진짜', '컴퓨터', '잘못', '엑셀', '해', '키키', '오', '그렇다', '나', '알다', '엑셀', '키키', '회사', '에서', '거', '어느', '정도', '비슷하다', '않다', '키키'], ['저희', '안', '만', '고객', '님', '우선', '순', '위로', '저희', '쪽', '에서', '은행', '자금', '을', '처리', '그래도', '저희', '쪽', '은행', '자금', '으로도', '천오백만원', '을', '다', '처리', '수가', '없다', '그리고', '쪽', '에도', '개', '내', '바보', '아니다', '이상은', '달랑', '천오백만원', '채권', '매입', '비용', '만', '받다', '수', '없다', '거', '잖다', '개', '내', '요', '솔직하다', '말씀드리다', '저희', '결제', '부서', '저희', '전산', '부서', '과장', '님', '께서', '쪽', '하고도', '얘기', '중', '인데', '개', '내', '얘기', '것', '보다', '개월', '에서', '모', '많다', '년치', '까지', '이자', '분', '을', '내달', '라', '그렇다', '그', '얘기', '나오다', '그', '부분', '대해', '서', '까지는', '저희', '은행', '쪽', '에서', '처리', '해드리다', '겁니다', '다만', '저희', '채권', '매입', '천오백만원', '채권', '매입', '받다', '것', '대해', '서', '저희', '은행', '자금', '다', '처리', '해드리다', '수', '없다', '부분', '왜', '그', '런가', '저희', '다', '처리', '되다', '고객', '님', '되다', '채권', '을', '저희', '은행', '자금', '처리', '되다', '저희', '은행', '쪽', '하고', '고객', '님', '하고', '작업', '대출', '로', '오해', '받다', '고객', '님', '그렇다', '때문', '저희', '은행', '자금', '다', '처리', '수', '없다', '다만', '저희', '본점', '쪽', '에서도', '얘기', '중이', '지만', '지금', '본점', '쪽', '저희', '지점', '에서', '지원', '자금', '처리', '해드리다', '거', '예요'], ['금감원', '출입', '을', '제한', '테', '니', '대신', '우리', '보내다', '직원', '에게', '돈', '을', '건네다']]\n"
          ]
        }
      ]
    },
    {
      "cell_type": "code",
      "source": [
        "# 테스트 데이터에 대해서도 동일하게 토큰화 진행\n",
        "\n",
        "X_test = []\n",
        "for sentence in test_data['sentence']:\n",
        "    temp_X = okt.morphs(sentence, stem=True) # 토큰화\n",
        "    temp_X = [word for word in temp_X if not word in stopwords] # 불용어 제거\n",
        "    X_test.append(temp_X)"
      ],
      "metadata": {
        "id": "uulUzYFKiBI8"
      },
      "execution_count": 27,
      "outputs": []
    },
    {
      "cell_type": "code",
      "source": [
        "from tensorflow.keras.preprocessing.text import Tokenizer\n",
        "\n",
        "# 정수 인코딩\n",
        "# 훈련 데이터에 대해서 단어 집합(vocaburary) 만들기\n",
        "tokenizer = Tokenizer()\n",
        "tokenizer.fit_on_texts(X_train)\n",
        "# 각 단어에 고유한 정수가 부여\n",
        "print(tokenizer.word_index)\n",
        "# 등장 빈도수가 높은 순서대로 부여"
      ],
      "metadata": {
        "colab": {
          "base_uri": "https://localhost:8080/"
        },
        "id": "T57WYrXJiBLP",
        "outputId": "066225af-b83d-44ef-ca4a-99d6e8a9b830"
      },
      "execution_count": 28,
      "outputs": [
        {
          "output_type": "stream",
          "name": "stdout",
          "text": [
            "{'되다': 1, '키키': 2, '있다': 3, '을': 4, '거': 5, '님': 6, '진짜': 7, '로': 8, '에서': 9, '그렇다': 10, '고객': 11, '저희': 12, '안': 13, '받다': 14, '그': 15, '지금': 16, '드리다': 17, '보다': 18, '이다': 19, '본인': 20, '아': 21, '나': 22, '가다': 23, '뭐': 24, '아니다': 25, '맞다': 26, '다': 27, '수': 28, '쪽': 29, '때문': 30, '건': 31, '같다': 32, '만': 33, '없다': 34, '어떻다': 35, '대출': 36, '확인': 37, 'ㅠㅠ': 38, '처리': 39, '계좌': 40, '게': 41, '좋다': 42, '사건': 43, '면': 44, '오다': 45, '내': 46, '돼다': 47, '께서': 48, '제': 49, '때': 50, '알다': 51, '않다': 52, '이제': 53, '은행': 54, '서': 55, '하고': 56, '진행': 57, '한테': 58, '해주다': 59, '겁니다': 60, '통장': 61, '네': 62, '적': 63, '원': 64, '일단': 65, '수사': 66, '고': 67, '근데': 68, '것': 69, '요': 70, '먹다': 71, '나다': 72, '자금': 73, '나오다': 74, '들어가다': 75, '해': 76, '싶다': 77, '되어다': 78, '야': 79, '예요': 80, '저': 81, '금융': 82, '연락': 83, '너무': 84, '랑': 85, '금액': 86, '말씀': 87, '주다': 88, '검사': 89, '담당': 90, '까지': 91, '해드리다': 92, '가능하다': 93, '보고': 94, '돈': 95, '못': 96, '부분': 97, '말': 98, '들다': 99, '경우': 100, '그거': 101, '서류': 102, '자다': 103, '인': 104, '이용': 105, '권': 106, '사람': 107, '시간': 108, '상환': 109, '조사': 110, '금융감독원': 111, '일': 112, '전화': 113, '대해': 114, '오늘': 115, '그래서': 116, '전': 117, '거기': 118, '이랑': 119, '직원': 120, '그러면': 121, '한번': 122, '시': 123, '언니': 124, '해보다': 125, '정도': 126, '중': 127, '왜': 128, '생각': 129, '곳': 130, '우리': 131, '보내다': 132, '어디': 133, '만원': 134, '많다': 135, '드릴': 136, '이나': 137, '알': 138, '현재': 139, '에는': 140, '개설': 141, '혹시': 142, '명의': 143, '여기': 144, '내용': 145, '지': 146, '이번': 147, '사용': 148, '인지': 149, '피해': 150, '대': 151, '모르다': 152, '얘기': 153, '카드': 154, '발급': 155, '범죄': 156, '얼마': 157, '그냥': 158, '이야': 159, '진술': 160, '금리': 161, '피해자': 162, '두': 163, '웅': 164, '바로': 165, '팀': 166, '많이': 167, '요즘': 168, '서울': 169, '명': 170, '더': 171, '난': 172, '인데': 173, '점': 174, '만약': 175, '이렇다': 176, '협조': 177, '대박': 178, '게임': 179, '하나': 180, '라고': 181, '말씀드리다': 182, '이렇게': 183, '부터': 184, '년': 185, '월': 186, '혐의': 187, '걸리다': 188, '통화': 189, '헐다': 190, '시키다': 191, '번': 192, '다음': 193, '오빠': 194, '그래도': 195, '개월': 196, '이해': 197, '직접': 198, '여자친구': 199, '납부': 200, '죠': 201, '불법': 202, '줄다': 203, '차': 204, '번호': 205, '키우다': 206, '완납': 207, '영장': 208, '오': 209, '그리고': 210, '에게': 211, '니까': 212, '필요하다': 213, '추가': 214, '다시': 215, '걸': 216, '입증': 217, '이라고': 218, '가지': 219, '몇': 220, '구': 221, '출금': 222, '분': 223, '대로': 224, '하': 225, '약식': 226, '상품': 227, '마이너스': 228, '러시': 229, '방법': 230, '지다': 231, '날짜': 232, '안되다': 233, '같이': 234, '발생': 235, '엄청': 236, '취소': 237, '라': 238, '공문': 239, '구속': 240, '말다': 241, '맨날': 242, '앞': 243, '신청': 244, '언제': 245, '선생님': 246, '들어오다': 247, '금일': 248, '라는': 249, '공증': 250, '속': 251, '어': 252, '부모님': 253, '제일': 254, '입금': 255, '다른': 256, '거래': 257, '후': 258, '예': 259, 'ㅜㅜ': 260, '해당': 261, '정말': 262, '응': 263, '누락': 264, '전환': 265, '설명': 266, '예약': 267, '가요': 268, '또': 269, '군대': 270, '달': 271, '이에요': 272, '사실': 273, '엠바고': 274, '전달': 275, '데': 276, '측': 277, '비': 278, '신원보증': 279, '신분': 280, '자산': 281, '중요하다': 282, '당연하다': 283, '완전': 284, '사': 285, '좋아하다': 286, '너': 287, '심사': 288, '처음': 289, '업무': 290, '비싸다': 291, '나가다': 292, '날씨': 293, '오리': 294, '그치다': 295, '요청': 296, '무슨': 297, '전산': 298, '원칙': 299, '변호사': 300, '방문': 301, '승인': 302, '담당자': 303, '송금': 304, '이신': 305, '검거': 306, '우리은행': 307, '도용': 308, '힘들다': 309, '처벌': 310, '이기': 311, '그게': 312, '국가': 313, '국민은행': 314, '이라': 315, '부탁드리다': 316, '만들다': 317, '친구': 318, '나중': 319, '타고': 320, '집': 321, '하하': 322, '비용': 323, '이자': 324, '지점': 325, '지원': 326, '그렇게': 327, '냐': 328, '이동': 329, '생기다': 330, '관리': 331, '괜찮다': 332, 'ㅠ': 333, '싫다': 334, '가야': 335, '거고': 336, '이고': 337, '집행': 338, '볼': 339, '하루': 340, '유출': 341, '자료': 342, '밥': 343, '꼭': 344, '사관': 345, '씨': 346, '보시': 347, '이지': 348, '장': 349, '계시다': 350, '역': 351, '개인': 352, '넣다': 353, '현금': 354, '그니까': 355, '녹취': 356, '혼자': 357, '무섭다': 358, '기사': 359, '주': 360, '회사': 361, '수가': 362, '채권': 363, '성': 364, '판단': 365, '전화하다': 366, '설치': 367, '다니다': 368, '어리다': 369, '얼굴': 370, '기간': 371, '에다가': 372, '김상호': 373, '신분증': 374, '정확하다': 375, '유포': 376, '공': 377, '아직': 378, '남다': 379, '관련': 380, '위임': 381, '이유': 382, '대한': 383, '영수증': 384, '서다': 385, '등': 386, '차다': 387, '법적': 388, '빠르다': 389, '정보': 390, '이상': 391, '완료': 392, '전부': 393, '방': 394, '연': 395, '성함': 396, '원금': 397, '공사': 398, '접수': 399, '창구': 400, '이름': 401, '내다': 402, '다행': 403, '여보세요': 404, '사무관': 405, '추다': 406, '겨울': 407, '세': 408, '내기': 409, '누르다': 410, '포장': 411, '에도': 412, '개': 413, '과장': 414, '다만': 415, '니': 416, '든': 417, '듣다': 418, '자주': 419, '계약': 420, '처럼': 421, '채무': 422, '관계': 423, '제자': 424, '크다': 425, '지인': 426, '가족': 427, '설정': 428, '통해': 429, '모든': 430, '가보다': 431, '연루': 432, '급': 433, '현': 434, '기': 435, '건데': 436, '거고요': 437, '맛있다': 438, '중인': 439, '및': 440, '주시': 441, '자리': 442, '끊다': 443, '정부': 444, '일부': 445, '불다': 446, '기억': 447, '물어보다': 448, '살': 449, '가면': 450, '엔': 451, '유튜브': 452, '이미': 453, '이하': 454, '안녕하다': 455, '회수': 456, '타': 457, '말고': 458, '경찰청': 459, '은행권': 460, '쓰다': 461, '뜨다': 462, '지방': 463, '멈추다': 464, '배우다': 465, '기차': 466, '여행': 467, '피부': 468, '에요': 469, '박스': 470, '멀다': 471, '재미있다': 472, '엑셀': 473, '어느': 474, '잖다': 475, '까지는': 476, '런가': 477, '중이': 478, '금감원': 479, '테': 480, '대신': 481, '먼저': 482, '상태': 483, '라면': 484, '해명': 485, '에서는': 486, '연결': 487, '이체': 488, '바르다': 489, '걱정': 490, '한도': 491, '따라서': 492, '다르다': 493, '부럽다': 494, '준비': 495, '쉬다': 496, '프로': 497, '거들다': 498, '당신': 499, '돌리다': 500, '절차': 501, '도움': 502, '걸다': 503, '사기': 504, '총': 505, '소': 506, '잡히다': 507, '뉴스': 508, '은닉': 509, '금지': 510, '동안': 511, '경찰': 512, '조금': 513, '아시': 514, '부': 515, '지키다': 516, '조치': 517, '카톡': 518, '왜냐면': 519, '또는': 520, '거지': 521, 'ㅡㅡ': 522, '신용': 523, '평점': 524, '보증': 525, '보험': 526, '안전': 527, '대포통장': 528, '지급': 529, '결과': 530, '주문': 531, '기존': 532, '보안': 533, '유무': 534, '지정': 535, '피': 536, '별로': 537, '수수료': 538, '술': 539, '싸우다': 540, '문제': 541, '그때': 542, '성매매': 543, '법무': 544, '일이': 545, '내년': 546, '이상하다': 547, '제주도': 548, '재밌다': 549, '그러니까': 550, '만나다': 551, '이기다': 552, '라멘': 553, '증명서': 554, '버스': 555, '환급': 556, '열': 557, '부산': 558, '이라도': 559, '죽다': 560, '코로나': 561, '기록': 562, '엄마': 563, '빨래': 564, '씩': 565, '동물': 566, '수납': 567, '나무': 568, '산': 569, '바꾸다': 570, '케이블카': 571, '검열': 572, '핑크': 573, '공부': 574, '어렵다': 575, '금방': 576, '잘못': 577, '우선': 578, '매입': 579, '작업': 580, '본점': 581, '서울구치소': 582, '대리': 583, '여': 584, '당장': 585, '신다': 586, '신용등급': 587, '끝나다': 588, '쯤': 589, '백수': 590, '계속': 591, '여름': 592, '필요': 593, '범': 594, '예전': 595, '양도': 596, '당하다': 597, '초과': 598, '얼마나': 599, '공범': 600, '검찰': 601, '보도': 602, '그릇': 603, '안내': 604, '끄다': 605, '담보': 606, '권한': 607, '일당': 608, '판매': 609, '인가요': 610, '메모': 611, '증거': 612, '실행': 613, '관': 614, '책임': 615, '환수': 616, '신청서': 617, '작성': 618, '갈다': 619, '이면': 620, '발설': 621, '면회': 622, '항상': 623, '가기': 624, '최근': 625, '울': 626, '중앙': 627, '검': 628, '학교': 629, '비밀번호': 630, '줄': 631, '기다리다': 632, '도착': 633, '메뉴': 634, '자취': 635, '귀찮다': 636, '근거': 637, '사건번호': 638, '고요': 639, '한국': 640, '정책': 641, '사항': 642, '위해': 643, '올리다': 644, '발견': 645, '모두': 646, '대다': 647, '저런': 648, '찾다': 649, '상황': 650, '잡다': 651, '둘': 652, '동생': 653, '여친': 654, '능': 655, '일본': 656, '레미': 657, '법인': 658, '과정': 659, '마다': 660, '이력': 661, '사라지다': 662, '건가': 663, '투잡': 664, '곧': 665, '경기도': 666, '범죄수사': 667, '덥다': 668, '입다': 669, '친목': 670, '도모': 671, '타다': 672, '갚다': 673, '거야': 674, '김광호': 675, '신규': 676, '능력': 677, '상향': 678, '빨갛다': 679, '택시': 680, '계약서': 681, '파견': 682, '집중': 683, '등급': 684, '오래': 685, '놀다': 686, '간': 687, '남친': 688, '편이': 689, '예정': 690, '사장': 691, '늦다': 692, '충전': 693, '무조건': 694, '우동': 695, '발부': 696, '가끔': 697, '전기차': 698, '조심하다': 699, '유임': 700, '료': 701, '부품': 702, '샘플': 703, '이십': 704, '보이다': 705, '오복이': 706, '결혼': 707, '강아지': 708, '아프다': 709, '캐피탈': 710, '축구': 711, '족구': 712, '휴대폰': 713, '오징어': 714, '달고나': 715, '시험': 716, '언능': 717, '니야': 718, '컴퓨터': 719, '비슷하다': 720, '순': 721, '천오백만원': 722, '결제': 723, '부서': 724, '오해': 725, '에서도': 726, '출입': 727, '장난': 728, '의왕시': 729, '거절': 730, '어떻': 731, '그렇다고': 732, '심하다': 733, '서민': 734, '어플': 735, '기미': 736, '저번': 737, '저축은행': 738, '최대': 739, '문자': 740, '가능': 741, '대체': 742, '똑같다': 743, '휴': 744, '이르다': 745, '당시': 746, '수익금': 747, '빌리다': 748, '발언': 749, '억': 750, '매스컴': 751, '도주': 752, '거나': 753, '라도': 754, '죄': 755, '일차': 756, '대면': 757, '개인정보': 758, '여쭈다': 759, '따르다': 760, '비대': 761, '약속': 762, '육성': 763, '읽다': 764, '원래': 765, '추적': 766, '대비': 767, '최종': 768, '가장': 769, '아무': 770, '써다': 771, '온': 772, '챙기다': 773, '신용카드': 774, '범인': 775, '제대로': 776, '근처': 777, '제출': 778, '답답하다': 779, '이래': 780, '미치다': 781, '세트': 782, '계란': 783, '간장': 784, '요리': 785, '얼른': 786, '의하다': 787, '가상': 788, '화폐': 789, '보유': 790, '간주': 791, '대기': 792, '천만원': 793, '잔액': 794, '래야': 795, '종결': 796, '빨리': 797, '물품': 798, '귀하': 799, '사이트': 800, '이야기': 801, '꺼': 802, '계획': 803, '성관계': 804, '대아': 805, '살이': 806, '세상': 807, '텐데': 808, '눈': 809, '따로': 810, '갖다': 811, '맞추다': 812, '이니까': 813, '뭐라다': 814, '물어': 815, '직장': 816, '강남': 817, '나서다': 818, '떡볶이': 819, '아따맘마': 820, '오덕': 821, '일반': 822, '확정': 823, '작년': 824, '까지만': 825, '할인': 826, '자체': 827, '알선': 828, '장이': 829, '검찰청': 830, '물': 831, '고지': 832, '수도': 833, '넘다': 834, '음': 835, '겠다': 836, '맡다': 837, '편하다': 838, '근무': 839, '저녁': 840, '너무하다': 841, '그건': 842, '사이버': 843, '신고': 844, '목적': 845, '사업': 846, '인가': 847, '아마': 848, '하지만': 849, '이구': 850, '출근': 851, '현장': 852, '종이': 853, '훈련소': 854, '꽤': 855, '쇼핑': 856, '재산': 857, '묵찌빠': 858, '빙수': 859, '편': 860, '벚꽃': 861, '구경': 862, '천': 863, '일주일': 864, '순삭': 865, '아끼다': 866, '해나': 867, '실제': 868, '부결': 869, '과태료': 870, '어그': 871, '최고': 872, '쌍둥이': 873, '국내': 874, '절대': 875, '수익': 876, '한데': 877, '택배': 878, '전액': 879, '장소': 880, '믿다': 881, '푸석푸석하다': 882, '일시': 883, '방식': 884, '핸드폰': 885, '달라': 886, '괜히': 887, '밑': 888, '밖': 889, '환불': 890, '인분': 891, '김밥': 892, '듯': 893, '인기': 894, '커지다': 895, '치킨': 896, '친척': 897, '효도': 898, '사촌': 899, '효력': 900, '돈가스': 901, '당일': 902, '동의': 903, '얻다': 904, '되게': 905, '부탁': 906, '올라가다': 907, '편법': 908, '아마존': 909, '베다': 910, '이전': 911, '최소': 912, '가격': 913, '째': 914, '함': 915, '홍길동': 916, '중도': 917, '계단': 918, '단풍': 919, '마음': 920, '추락': 921, '가이드': 922, '버튼': 923, '뮬리': 924, '당진': 925, '바다': 926, '뒤': 927, '자격증': 928, '떨어지다': 929, '아자': 930, '나나': 931, '이상은': 932, '지만': 933, '아깝다': 934, '신빙': 935, '기회': 936, '분명하다': 937, '소리': 938, '대답': 939, '정상': 940, '잡티': 941, '레이저': 942, '빼': 943, '버리다': 944, '패': 945, 'ㅋㅋ': 946, '빼다': 947, '캐다': 948, '이드': 949, '이쁘다': 950, '잔': 951, '이율': 952, '조금씩': 953, '올해': 954, '고향': 955, '내려가다': 956, '백': 957, '단위': 958, '전역': 959, '쉬': 960, '프랑스': 961, '벌다': 962, '원하다': 963, '배정': 964, '전혀': 965, '말경': 966, '광명시': 967, '적다': 968, '대부분': 969, '종사': 970, '해외': 971, '방해': 972, '뭔': 973, '시점': 974, '뜻': 975, '용어': 976, '기자': 977, '최초': 978, '유포자': 979, '지목': 980, '한다는': 981, '작다': 982, '선택': 983, '소득': 984, '저축': 985, '물건': 986, '마침': 987, '금전': 988, '신지': 989, '인하다': 990, '오픈': 991, '그런데': 992, '경': 993, '일절': 994, '아무렇다': 995, '가중': 996, '옆': 997, '동영상': 998, '보호': 999, '민원': 1000, '원상': 1001, '확보': 1002, '불량': 1003, '피의자': 1004, '큰일': 1005, '뭘': 1006, '딱': 1007, '한가지': 1008, '갈수': 1009, '그리다': 1010, '낮다': 1011, '가입': 1012, '행정': 1013, '아이': 1014, '머리': 1015, '크게': 1016, '하니': 1017, '예금': 1018, '가깝다': 1019, '차로': 1020, '차비': 1021, '첨부': 1022, '자기': 1023, '납득': 1024, '집밥': 1025, '버터': 1026, '먹기': 1027, '합동': 1028, '적금': 1029, '체크카드': 1030, '정리': 1031, '잠깐': 1032, '아침': 1033, '포함': 1034, '수령': 1035, '센터': 1036, '온라인': 1037, '자동': 1038, '주민': 1039, '휴지': 1040, '위': 1041, '동선': 1042, '파악': 1043, '압수': 1044, '서울시': 1045, '팔': 1046, '넘기다': 1047, '노력': 1048, '배달': 1049, '동거': 1050, '아들': 1051, '변기': 1052, '소름': 1053, '돋다': 1054, '거부': 1055, '들이다': 1056, '짜증': 1057, '머': 1058, '적립': 1059, '요런': 1060, '출퇴근': 1061, '아예': 1062, '엄두': 1063, '누우': 1064, '끝': 1065, '이네': 1066, '철': 1067, '도시락': 1068, '감': 1069, '애': 1070, '스펀지밥': 1071, '책': 1072, '사고': 1073, '도레미': 1074, '대박나다': 1075, '칼국수': 1076, '해도': 1077, '회피': 1078, '아무래도': 1079, '징역': 1080, '강남구': 1081, '김수환': 1082, '대검찰청': 1083, '상담': 1084, '자세하다': 1085, '서도': 1086, '마지막': 1087, '대표': 1088, '쓰리다': 1089, '잡': 1090, '머선': 1091, '블로그': 1092, '대화': 1093, '글쎄': 1094, '전문': 1095, '안내받다': 1096, '부르다': 1097, '자차': 1098, '경위': 1099, '만큼': 1100, '하라': 1101, '대략': 1102, '으로는': 1103, '특급': 1104, '부업': 1105, '통신사': 1106, '미리': 1107, '첨단': 1108, '기단': 1109, '가을': 1110, '가늠': 1111, '걸치다': 1112, '오지': 1113, '변덕': 1114, '패딩': 1115, '짬뽕': 1116, '우려': 1117, '진심': 1118, '한라산': 1119, '짜다': 1120, '아버지': 1121, '새벽': 1122, '일찍': 1123, '시기': 1124, '감식': 1125, '코드': 1126, '일련번호': 1127, '자금세탁': 1128, '서명': 1129, '값': 1130, '내야': 1131, '거의': 1132, '슬프다': 1133, '남성': 1134, '김': 1135, '강호': 1136, '샘': 1137, '서초동': 1138, '아웅': 1139, '방지': 1140, '마무리': 1141, '요지': 1142, '딱지': 1143, '붕어빵': 1144, '지면': 1145, '사주다': 1146, '거임': 1147, '초밥': 1148, '후쿠오카': 1149, '온천': 1150, '카레': 1151, '은근': 1152, '고아': 1153, '니깐': 1154, '상': 1155, '높다': 1156, '주신': 1157, '기업': 1158, '신': 1159, '용도': 1160, '충분하다': 1161, '쌓다': 1162, '쓸다': 1163, '수원': 1164, '버스비': 1165, '월급': 1166, '비도': 1167, '당': 1168, '일로': 1169, '없이': 1170, '사무실': 1171, '청구': 1172, '의사': 1173, 'ㅇㅇ': 1174, '수당': 1175, '무': 1176, '영업소': 1177, '쏘다': 1178, '보통': 1179, '활용': 1180, '신호': 1181, '론': 1182, '운전': 1183, '놓다': 1184, '카메라': 1185, '보이스피싱': 1186, '코스': 1187, '패러글라이딩': 1188, '태우다': 1189, '든지': 1190, '누가': 1191, '교육': 1192, '교육비': 1193, '연동': 1194, '래': 1195, '그리스': 1196, '활동': 1197, '활약': 1198, '출전': 1199, '남부': 1200, '지역': 1201, '경제': 1202, '항공': 1203, '무더기': 1204, '이만': 1205, '어마어마하다': 1206, '가게': 1207, '타격': 1208, '반송': 1209, '카카오': 1210, '톡': 1211, '지시': 1212, '타인': 1213, '정지': 1214, '범행': 1215, '께': 1216, '여부': 1217, '쓰시': 1218, '선지': 1219, '임대': 1220, '사진': 1221, '해달라다': 1222, '시즌': 1223, '뒤지다': 1224, '혔': 1225, '마스크': 1226, '마사지': 1227, '추천': 1228, '점수': 1229, '오르다': 1230, '조건': 1231, '밖에': 1232, '기분': 1233, '넘어가다': 1234, '인치': 1235, '구금': 1236, '물가': 1237, '세금': 1238, '싸다': 1239, '맨': 1240, '유명하다': 1241, '쿠폰': 1242, '이세': 1243, '수고': 1244, '유튜버': 1245, '병아리': 1246, '흠': 1247, '고기': 1248, '불쌍하다': 1249, '잠시': 1250, '십이만': 1251, '삼십원': 1252, '삼십': 1253, '제외': 1254, '십만': 1255, '피자': 1256, '마카': 1257, '간다': 1258, '끼리': 1259, '친하다': 1260, '나가시': 1261, '증서': 1262, '퀵': 1263, '무게': 1264, '자재': 1265, '반': 1266, '흔들다': 1267, '액체': 1268, '의심': 1269, '어보': 1270, '장주': 1271, '매달': 1272, '과의': 1273, '실명': 1274, '십만원': 1275, '여행지': 1276, '에이': 1277, '매콤': 1278, '고소장': 1279, '나쁘다': 1280, '의견서': 1281, '어차피': 1282, '여기다': 1283, '천만': 1284, '하든': 1285, '파괴': 1286, '배': 1287, '면적': 1288, '심다': 1289, '십': 1290, '김치': 1291, '화이자': 1292, '부스터': 1293, '샷': 1294, '반절': 1295, '암': 1296, '전자': 1297, '위반': 1298, '법치국가': 1299, '금': 1300, '주소지': 1301, '긴급': 1302, '내내': 1303, '건물': 1304, '옮기다': 1305, '깎다': 1306, '분들': 1307, '날': 1308, '출고': 1309, '천국': 1310, '군': 1311, '예쁘다': 1312, '찍다': 1313, '즐기다': 1314, '대천': 1315, '남아': 1316, '이라든지': 1317, '축가': 1318, '두다': 1319, '밥상': 1320, '말티즈': 1321, '귀엽다': 1322, '열심히': 1323, '중개': 1324, '업체': 1325, '제목': 1326, '러시앤캐시': 1327, '관계없이': 1328, '환': 1329, '네네': 1330, '급하다': 1331, '류': 1332, '전과': 1333, '대상자': 1334, '첫': 1335, '하고는': 1336, '제이원': 1337, '주말': 1338, '바라다': 1339, '미터': 1340, '안타깝다': 1341, '조기': 1342, '한잔': 1343, '운동': 1344, '겁': 1345, '가시다': 1346, '하나카드': 1347, '탈세': 1348, '국세청': 1349, '대안': 1350, '옷': 1351, '줄다리기': 1352, '분장': 1353, '열람': 1354, '발신': 1355, '화면': 1356, '편리': 1357, '삼': 1358, '다운로드': 1359, '공문서': 1360, '데이트': 1361, '꺼내다': 1362, '한강': 1363, '예치': 1364, '연체': 1365, '뮬': 1366, '리가': 1367, '다녀오다': 1368, '컴활': 1369, '멋있다': 1370, '어쩌지': 1371, '따다': 1372, '실기': 1373, '기도': 1374, '딴다': 1375, '위로': 1376, '으로도': 1377, '바보': 1378, '달랑': 1379, '솔직하다': 1380, '하고도': 1381, '모': 1382, '년치': 1383, '내달': 1384, '제한': 1385, '건네다': 1386, '잘나다': 1387, '똑똑하다': 1388, '양반': 1389, '말투': 1390, '고치다': 1391, '당당하다': 1392, '지번': 1393, '애초': 1394, '기관': 1395, '지는': 1396, '영': 1397, '장집': 1398, '행해': 1399, '자격': 1400, '예민하다': 1401, '반응': 1402, '감정': 1403, '한쪽': 1404, '흘리다': 1405, '자존심': 1406, '전용': 1407, '검색': 1408, '빠져나가다': 1409, '안전하다': 1410, '썬크림': 1411, '해안': 1412, '지나': 1413, '남자': 1414, '겁나다': 1415, '늙다': 1416, '마': 1417, '거도': 1418, '흉짐': 1419, '로더': 1420, '흑': 1421, '흑아': 1422, '음료': 1423, '웰컴': 1424, '천이백만원': 1425, '수다': 1426, '미래': 1427, '어둡다': 1428, '취준': 1429, '쉬엄쉬엄': 1430, '여태': 1431, '쉰': 1432, '방학': 1433, '모으다': 1434, '나이': 1435, '거길': 1436, '육십육만원': 1437, '삼일': 1438, '반환': 1439, '이루다': 1440, '법무사': 1441, '굳이': 1442, '정황': 1443, '철산': 1444, '운전면허증': 1445, '분실': 1446, '가담': 1447, '비공개': 1448, '주변': 1449, '흘러가다': 1450, '가정': 1451, '신문': 1452, '범죄자': 1453, '혹여': 1454, '공무': 1455, '단어': 1456, '일정': 1457, '보도부': 1458, '즉': 1459, '준수': 1460, '임해': 1461, '담다': 1462, '선임': 1463, '만을': 1464, '추심': 1465, '햇살': 1466, '분류': 1467, '마트': 1468, '회원': 1469, '구매': 1470, '개통': 1471, '이현주': 1472, '대가': 1473, '한지': 1474, '대요': 1475, '서준': 1476, '특수': 1477, '각심': 1478, '이며': 1479, '멸': 1480, '행위': 1481, '어기다': 1482, '손': 1483, '촬영': 1484, '또박또박': 1485, '사인': 1486, '복구': 1487, '주장': 1488, '김호성': 1489, '법죄': 1490, '지휘': 1491, '결정': 1492, '자신': 1493, '보내오다': 1494, '멀리': 1495, '눈물': 1496, '쏟아지다': 1497, '짬찌': 1498, '고맙다': 1499, '매번': 1500, '우울하다': 1501, '생활': 1502, '레모': 1503, '재미': 1504, '인생': 1505, '살펴보다': 1506, '워낙': 1507, '실': 1508, '다치다': 1509, '수술': 1510, '보안등': 1511, '강화': 1512, '난리': 1513, '생각나다': 1514, '조퇴': 1515, '숙박시설': 1516, '식대': 1517, '부대': 1518, '지출': 1519, '죽겠네': 1520, '사태': 1521, '복잡하다': 1522, '굉장하다': 1523, '돌아가다': 1524, '거짓': 1525, '회식': 1526, '단체': 1527, '런치': 1528, '사골': 1529, '국': 1530, '음식': 1531, '풍': 1532, '미가': 1533, '환상': 1534, '환장하다': 1535, '공기': 1536, '뚝딱': 1537, '역다': 1538, '생': 1539, '필수': 1540, 'ㅎ': 1541, '거응': 1542, '작': 1543, '성은': 1544, '요구': 1545, '오차': 1546, '범위': 1547, '휴면': 1548, '청약': 1549, '주식': 1550, '생년': 1551, '월일': 1552, '매': 1553, '기준': 1554, '중앙회': 1555, '취급': 1556, '나야': 1557, '통합': 1558, '관해': 1559, '문': 1560, '처': 1561, '데이터': 1562, '화재': 1563, '현상': 1564, '이어지다': 1565, '오류': 1566, '특이': 1567, '경보': 1568, '감지': 1569, '테이블': 1570, '보지': 1571, '길어지다': 1572, '주소': 1573, '초등학교': 1574, '누명': 1575, '벗다': 1576, '보고서': 1577, '머릿속': 1578, '하나은행': 1579, '지갑': 1580, '잃어버리다': 1581, '중고': 1582, '출하': 1583, '외심': 1584, '왜냐하면': 1585, '경찰서': 1586, '하양': 1587, '녀': 1588, '흉기': 1589, '위협': 1590, '마르다': 1591, '그랬다고': 1592, '에휴': 1593, '쟤': 1594, '더하다': 1595, '말세': 1596, '촉법': 1597, '소년': 1598, '집행유예': 1599, '살아가다': 1600, '협박': 1601, '알라': 1602, '애도': 1603, '낳다': 1604, '자식': 1605, '햇볕': 1606, '블라인드': 1607, '조절': 1608, '쌓이다': 1609, '허니': 1610, '스파클링': 1611, '콜라': 1612, '통': 1613, '인제': 1614, '실사': 1615, '어쨌든': 1616, '고건': 1617, '틀다': 1618, '식': 1619, '간혹': 1620, '꼬치꼬치': 1621, '캐물': 1622, '일일이': 1623, '평': 1624, '왜케': 1625, '신림': 1626, '외곽': 1627, '빠지다': 1628, '손가락': 1629, '빨': 1630, '듯둘': 1631, '저렴하다': 1632, '갈리다': 1633, '움직이다': 1634, '근': 1635, '복귀': 1636, '금도': 1637, '깐족거려웅': 1638, '종일': 1639, '제대': 1640, '금은': 1641, '싫어하다': 1642, '마인드': 1643, '천사': 1644, '덜': 1645, '싸': 1646, '정성': 1647, '현모양처': 1648, '신부': 1649, '딱이다': 1650, '떡': 1651, '밀떡': 1652, '만화': 1653, '보기': 1654, '재방송': 1655, '치다': 1656, '보더': 1657, '짱구': 1658, '마법': 1659, '소라': 1660, '고동': 1661, '길': 1662, '가나': 1663, '규어': 1664, '사자': 1665, '홍대': 1666, '카페': 1667, '주차': 1668, '육수': 1669, '제휴': 1670, '보': 1671, '민감하다': 1672, '벌금형': 1673, '간략하다': 1674, '스타': 1675, '빌다': 1676, '오피스텔': 1677, '으로부터': 1678, '질': 1679, '실질': 1680, '문상': 1681, '기재': 1682, '예방': 1683, '하란': 1684, '동시': 1685, '추후': 1686, '이뤄지다': 1687, '면책': 1688, '스러운': 1689, '양해': 1690, '사과': 1691, '감사하다': 1692, '까르보나라': 1693, '행사': 1694, '뛰다': 1695, '거야웅': 1696, '본업': 1697, 'ㅋ': 1698, '흙흙흙': 1699, '키워지다': 1700, '이웃': 1701, '야오': 1702, '그렇겐': 1703, '홀': 1704, '버': 1705, '광고': 1706, '글': 1707, '수입': 1708, '파블': 1709, '꿈': 1710, '소속': 1711, '호칭': 1712, '장님': 1713, '위치': 1714, '소음': 1715, '유입': 1716, '채택': 1717, '외부': 1718, '철산동': 1719, '네이버': 1720, '중고나라': 1721, '이라는': 1722, '흔하다': 1723, '접': 1724, '내사': 1725, '직': 1726, '역임': 1727, '외': 1728, '여건': 1729, '배민': 1730, '뜨겁다': 1731, '정수기': 1732, '다량': 1733, '현금카드': 1734, '맵다': 1735, '가디건': 1736, '땀': 1737, '절로': 1738, '열정': 1739, '일해': 1740, '오락가락': 1741, '기온': 1742, '훅': 1743, '심해': 1744, '간간히': 1745, '눈싸움': 1746, '눈삽': 1747, '챙겨패딩': 1748, '오버': 1749, '지방검찰청': 1750, '조사해': 1751, '강압': 1752, '에게도': 1753, '농협': 1754, '친오빠': 1755, '남편': 1756, '산악회': 1757, '갈래': 1758, '등반': 1759, '버킷리스트': 1760, '여러': 1761, '이서': 1762, '좋아지다': 1763, '여섯': 1764, '죙일': 1765, '그랬는데': 1766, '눈꽃': 1767, '산행': 1768, '치가': 1769, '싶어웅': 1770, '등산': 1771, '검수': 1772, '토대': 1773, '출처': 1774, '경로': 1775, '스크랩': 1776, '핑': 1777, '마치': 1778, '관련성': 1779, '로는': 1780, '섞이다': 1781, '그날': 1782, '긴장': 1783, '날다': 1784, '하므다': 1785, '숫자': 1786, '웃기다': 1787, '국민카드': 1788, '왜캐': 1789, '긁다': 1790, '절약': 1791, '살다': 1792, '물욕': 1793, '양': 1794, '박진석': 1795, '출신': 1796, '김강우': 1797, '봉': 1798, '점검': 1799, '차명계좌': 1800, '재료': 1801, '증권': 1802, '각': 1803, '일경': 1804, '서초구': 1805, '개선': 1806, '고물상': 1807, '그것': 1808, '차후': 1809, '여자': 1810, '해앞': 1811, '명찰': 1812, '증': 1813, '신기': 1814, '방기': 1815, '딱하다': 1816, '정해지다': 1817, '엑스': 1818, '상병': 1819, '병장': 1820, '훈련병': 1821, '한판': 1822, '주먹': 1823, '가위': 1824, '보자기': 1825, '치기': 1826, '수거': 1827, '설빙': 1828, '뜰': 1829, '이치란': 1830, '존맛': 1831, '탱': 1832, '담날': 1833, '기억나다': 1834, '춥다': 1835, '일본도': 1836, '사쿠라': 1837, '상담사': 1838, '보신': 1839, '사례': 1840, '산이': 1841, '하락': 1842, '원인': 1843, '펴다': 1844, '사라': 1845, '찍히다': 1846, '왕복': 1847, '자가용': 1848, '깨지다': 1849, '죄다': 1850, '무시': 1851, '부지런하다': 1852, '방세': 1853, '교통비': 1854, '우편': 1855, '등기': 1856, '발송': 1857, '단순': 1858, '변심': 1859, '주머니': 1860, '저녁때': 1861, '가져가다': 1862, '제비': 1863, '매장': 1864, '매우': 1865, '맵': 1866, '어쩌다가': 1867, '지뢰': 1868, '과속': 1869, '낼': 1870, '원대': 1871, '억울하다': 1872, '왜머선': 1873, '그대': 1874, '지나가다': 1875, '굽다': 1876, '다키키': 1877, '냥': 1878, '뇌': 1879, '그러다가': 1880, '사다': 1881, '세팅': 1882, '테이크아웃': 1883, '탈': 1884, '자유롭다': 1885, '어우': 1886, '장미': 1887, '포기': 1888, '이수': 1889, '장비': 1890, '웃기': 1891, '멀쥬아니쥬': 1892, '있쥬': 1893, '넘어서다': 1894, '운행': 1895, '막': 1896, '차갑다': 1897, '시더': 1898, '퇴근': 1899, '후딱': 1900, '어딜': 1901, '지도': 1902, '자동차': 1903, '빡': 1904, '데려가다': 1905, '넷이그': 1906, '배구': 1907, '선수': 1908, '논란': 1909, '이적': 1910, '데뷔전': 1911, '치르다': 1912, '완승': 1913, '거두다': 1914, '현실': 1915, '경기': 1916, '부담스럽다': 1917, '파워': 1918, '쎄다': 1919, '늘다': 1920, '거주지': 1921, '간단하다': 1922, '아이폰': 1923, '종': 1924, '직업': 1925, '아메리칸': 1926, '인력': 1927, '감축': 1928, '만이': 1929, '땜시': 1930, '망하다': 1931, '이리저리': 1932, '망치다': 1933, '손실': 1934, '메이저': 1935, '항공사': 1936, '이슈': 1937, '수취': 1938, '부재': 1939, '우편물': 1940, '식사': 1941, '따라오다': 1942, '등록': 1943, '밝혀지다': 1944, '어려워지다': 1945, '막다': 1946, '함께': 1947, '대한민국': 1948, '연관': 1949, '되돌리다': 1950, '지난': 1951, '스포츠토토': 1952, '앉다': 1953, '에다': 1954, '콜센터': 1955, '친': 1956, '인척': 1957, '관곈데': 1958, '극': 1959, '고소하다': 1960, '건조하다': 1961, '어나': 1962, '주사': 1963, '치료': 1964, '여드름': 1965, '뾰': 1966, '루지': 1967, '로션': 1968, '스킨': 1969, '발라': 1970, '수분': 1971, '콜라겐': 1972, '팩': 1973, '덕지덕지': 1974, '단': 1975, '평가': 1976, '이내': 1977, '사마': 1978, '차이다': 1979, '실례': 1980, '국민': 1981, '건강': 1982, '공단': 1983, '의료': 1984, '과납': 1985, '보험료': 1986, '자기야': 1987, '문화': 1988, '상품권': 1989, '구입': 1990, '핀': 1991, '메뉴판': 1992, '아이스': 1993, '아메리카노': 1994, '희망': 1995, '고장': 1996, '크레디트': 1997, '피고인': 1998, '거치': 1999, '힘드다': 2000, '요새': 2001, '집안일': 2002, '삭막하다': 2003, '재미없다': 2004, '살아나다': 2005, '몰다': 2006, '말르다': 2007, '가버리다': 2008, '헐': 2009, '갑자기': 2010, '집안': 2011, '청소': 2012, '흥': 2013, '지치다': 2014, '푸드': 2015, '트럭': 2016, '장사': 2017, '계약금': 2018, '이점': 2019, '수표': 2020, '봉투': 2021, '자필': 2022, '싸인': 2023, '창가': 2024, '점심': 2025, '더럽다': 2026, '위생': 2027, '더욱': 2028, '묻다': 2029, '고추기름': 2030, '닦이다': 2031, '배고프다': 2032, '착하다': 2033, '죄송하다': 2034, '엠': 2035, '사이즈': 2036, '실컷': 2037, '나들목': 2038, '수백': 2039, '순대': 2040, '아직도': 2041, '팔다': 2042, '사지': 2043, '장날': 2044, '곱상하다': 2045, '할아버지': 2046, '닭장': 2047, '달걀': 2048, '가져오다': 2049, '화기': 2050, '훈제': 2051, '에헤': 2052, '반려': 2053, '돌아다니다': 2054, '아기': 2055, '의자': 2056, '나머지': 2057, '림프': 2058, '핫': 2059, '골드': 2060, '모임': 2061, '디너': 2062, '모시': 2063, '고우리': 2064, '델': 2065, '라기보단': 2066, '델꼬': 2067, '합': 2068, '석': 2069, '분위기': 2070, '생일': 2071, '파티': 2072, '공중': 2073, '뵙다': 2074, '약': 2075, '정서': 2076, '카츠동': 2077, '불고기': 2078, '사이드': 2079, '종류': 2080, '잘되지': 2081, '가볍다': 2082, '열다': 2083, '경향': 2084, '위주': 2085, '세부': 2086, '전자부품': 2087, '화장품': 2088, '악세사리': 2089, '규격': 2090, '최하': 2091, '크기': 2092, '기본': 2093, '킬로': 2094, '나가야': 2095, '돌': 2096, '느끼다': 2097, '가령': 2098, '생수': 2099, '느낌': 2100, '테이프': 2101, '어설프다': 2102, '살짝': 2103, '가로세로': 2104, '대각선': 2105, '뒷': 2106, '꼼꼼하다': 2107, '밤': 2108, '내일': 2109, '가도': 2110, '당부': 2111, '홍합': 2112, '천백십원': 2113, '시구': 2114, '이중': 2115, '백원': 2116, '가결': 2117, '천십만': 2118, '법정': 2119, '출석': 2120, '남자친구': 2121, '터지다': 2122, '직전': 2123, '태국': 2124, '신기하다': 2125, '어캐': 2126, '외향': 2127, '성격': 2128, '역시': 2129, '만날': 2130, '사정': 2131, '군인': 2132, '거야어': 2133, '기대': 2134, '실망': 2135, '즙': 2136, '중어': 2137, '별미': 2138, '멸치': 2139, '부족하다': 2140, '보완': 2141, '순서': 2142, '한적': 2143, '고소': 2144, '건만': 2145, '정말로': 2146, '서주': 2147, '불': 2148, '그대로': 2149, '이탈': 2150, '구속영장': 2151, '주차장': 2152, '거주': 2153, '울산': 2154, '남구': 2155, '휴대': 2156, '고정': 2157, '가져다주다': 2158, '악의': 2159, '송달': 2160, '사천만원': 2161, '사기꾼': 2162, '분명': 2163, '아뇨': 2164, '말좀': 2165, '들어주다': 2166, '환경': 2167, '무너지다': 2168, '지구': 2169, '허파': 2170, '속도': 2171, '빨르다': 2172, '라이언킹': 2173, '여의도': 2174, '자르다': 2175, '브라질': 2176, '막무가내': 2177, '제발': 2178, '자연': 2179, '삼선짬뽕': 2180, '나기': 2181, '질환': 2182, '병명': 2183, '빠': 2184, '도대체': 2185, '백신': 2186, '패스': 2187, '도입': 2188, '희귀암': 2189, '놀': 2190, '화장실': 2191, '물이': 2192, '어딘': 2193, '영등포': 2194, '문래동': 2195, '인지도': 2196, '필요없다': 2197, '법': 2198, '누구': 2199, '맘대로': 2200, '원곡동': 2201, '인거': 2202, '드러나다': 2203, '완벽하다': 2204, '용의자': 2205, '보이': 2206, '사설': 2207, '도박': 2208, '기지국': 2209, '체포영장': 2210, '날자': 2211, '체포': 2212, '거짓말': 2213, '나름': 2214, '버티다': 2215, '안이': 2216, '사해이': 2217, '코팅': 2218, '오래되다': 2219, '이천': 2220, '초반': 2221, '만들어지다': 2222, '고치': 2223, '냄새': 2224, '채우다': 2225, '준': 2226, '뻑뻑': 2227, '무턱': 2228, '대고': 2229, '먹튀': 2230, '난감하다': 2231, '차량': 2232, '수출': 2233, '영업': 2234, '서로': 2235, '단말': 2236, '그런': 2237, '세번': 2238, '바이오': 2239, '시그널': 2240, '무통': 2241, '쉽다': 2242, '박성진': 2243, '주년': 2244, '램': 2245, '시합': 2246, '아하': 2247, '몰래': 2248, '스릴': 2249, '중독': 2250, '짱': 2251, '판': 2252, '하자': 2253, '만두': 2254, '독자': 2255, '명오': 2256, '브이': 2257, '로그': 2258, '아이디': 2259, '땜빵': 2260, '싸이': 2261, '즈': 2262, 'ㅜ': 2263, '안부': 2264, '놨': 2265, '재주': 2266, '아집': 2267, '라이프': 2268, '경사': 2269, '구경이': 2270, '설악산': 2271, '강원도': 2272, '기다': 2273, '다그': 2274, '너그럽다': 2275, '갈라고': 2276, '조개': 2277, '구이': 2278, '고웅': 2279, '이틀': 2280, '한두': 2281, '최': 2282, '재판': 2283, '와는': 2284, '별개': 2285, '이란': 2286, '평생': 2287, '향후': 2288, '꼬리표': 2289, '따라다니다': 2290, '재직': 2291, '이직': 2292, '불리하다': 2293, '작용': 2294, '불이익': 2295, '할당': 2296, '명령': 2297, '최대한': 2298, '삼천만원': 2299, '해주시': 2300, '훨씬': 2301, '사업자': 2302, '허락': 2303, '벌써': 2304, '상견례': 2305, '아쉽다': 2306, '박웅': 2307, '유부': 2308, '남': 2309, '커플': 2310, '차리다': 2311, '와이프': 2312, '흐흣그치': 2313, '식장': 2314, '청첩장': 2315, '라식': 2316, '인정': 2317, '똥꼬': 2318, '발랄': 2319, '외롭다': 2320, '순하다': 2321, '짖다': 2322, '살리다': 2323, '급성': 2324, '신부전증': 2325, '찢어지다': 2326, '애기': 2327, '태어나다': 2328, '최선': 2329, '다한': 2330, '형님': 2331, '달러': 2332, '계시': 2333, '어린이': 2334, '사은': 2335, '품다': 2336, '형수': 2337, '만의': 2338, '이분': 2339, '이지만': 2340, '공소': 2341, '또한': 2342, '비교': 2343, '존재': 2344, '돌발': 2345, '행동': 2346, '불응': 2347, '시르다': 2348, '의거': 2349, '이해만': 2350, '적극': 2351, '이행': 2352, '성매매특별법': 2353, '단속': 2354, '홈페이지': 2355, '건소': 2356, '육안': 2357, '주리다': 2358, '김민기': 2359, '부담': 2360, '화요일': 2361, '없어지다': 2362, '귀하다': 2363, '링크': 2364, '접속': 2365, '체코': 2366, '관광지': 2367, '아래': 2368, '하필': 2369, '부러': 2370, '어쩌다': 2371, '산악': 2372, '열차': 2373, '쫄았거': 2374, '해발': 2375, '순간': 2376, '아찔하다': 2377, '덜덜': 2378, '떨다': 2379, '재수': 2380, '회': 2381, '나가웅': 2382, '골키퍼': 2383, '깍두기': 2384, '동네': 2385, '오랜': 2386, '간만': 2387, '동구': 2388, '약과': 2389, '대학': 2390, '고백': 2391, '며칠': 2392, '공지': 2393, '연말': 2394, '지연': 2395, '고인': 2396, '발행': 2397, '상급': 2398, '대충': 2399, '예측': 2400, '효과': 2401, '일대일': 2402, '투맨': 2403, '형식': 2404, '급수': 2405, '김민철': 2406, '만지다': 2407, '잔고': 2408, '서비스': 2409, '오십': 2410, '절때': 2411, '고춧가룹': 2412, '땜': 2413, '만에': 2414, '육개': 2415, '팔천만': 2416, '사오다': 2417, '나신': 2418, '하반기': 2419, '금융정보분석원': 2420, '입출금': 2421, '소요': 2422, '돌솥비빔밥': 2423, '세무서': 2424, '징수': 2425, '드림': 2426, '정': 2427, '주행': 2428, '특히': 2429, '희다': 2430, '거리': 2431, '전국': 2432, '품절': 2433, '할로윈': 2434, '절반': 2435, '성공': 2436, '한류': 2437, '임': 2438, '나와라': 2439, '사그라들다': 2440, '라나': 2441, '역표': 2442, '의뢰인': 2443, '입금자': 2444, '명란': 2445, '거래처': 2446, '증제': 2447, '호건': 2448, '부터는': 2449, '차례': 2450, '의도': 2451, '과거': 2452, '흔적': 2453, '악성코드': 2454, '발언권': 2455, '녹화': 2456, '유의': 2457, '종료': 2458, '임의': 2459, '전화기': 2460, '으로나': 2461, '사유': 2462, '실시': 2463, '꺼지다': 2464, '주의': 2465, '토스': 2466, '던지다': 2467, '소지': 2468, '삭제': 2469, '해오다': 2470, '개월치': 2471, '이개': 2472, '저렇게': 2473, '본부': 2474, '변경': 2475, '요가': 2476, '현대': 2477, '모듈': 2478, '모델': 2479, '로고': 2480, '열기': 2481, '조이': 2482, '크레딧': 2483, '트': 2484, '십분': 2485, '땐': 2486, '저기': 2487, '엑스포': 2488, '공원': 2489, '돗자리': 2490, '깔다': 2491, '추워지다': 2492, '따뜻하다': 2493, '끓이다': 2494, '입자': 2495, '기대다': 2496, '고구마': 2497, '지능': 2498, '세탁': 2499, '적발': 2500, '셀프': 2501, '스포츠': 2502, '토토': 2503, '싸이트': 2504, '손님': 2505, '게임머니': 2506, '펀드': 2507, '용': 2508, '피더': 2509, '시작': 2510, '고창': 2511, '맛집': 2512, '아아': 2513, '진도': 2514, '미술관': 2515, '걸왜': 2516, '바닷가': 2517, '논산': 2518, '군산': 2519, '주위': 2520, '짧다': 2521, '내지': 2522, '이주일': 2523, '반대': 2524, '도장': 2525, '맡기다': 2526, '찾아오다': 2527, '신상': 2528, '부정': 2529, '의뢰': 2530, '동태': 2531, '탕': 2532, '그립다': 2533, '아빠': 2534, '이래서': 2535, '짐': 2536, '영상': 2537, '자고': 2538, '연차': 2539, '어서': 2540, '서서': 2541, '이냐': 2542, '하루하루': 2543, '몇장': 2544}\n"
          ]
        }
      ]
    },
    {
      "cell_type": "code",
      "source": [
        "# 빈도수가 낮은 단어 정리를 위해 등장 빈도수가 2회 미만인 단어들이 이 데이터에서 얼만큼의 비중을 차지하는지 확인\n",
        "\n",
        "threshold = 3\n",
        "total_cnt = len(tokenizer.word_index) # 단어의 수\n",
        "rare_cnt = 0 # 등장 빈도수가 threshold보다 작은 단어의 개수를 카운트\n",
        "total_freq = 0 # 훈련 데이터의 전체 단어 빈도수 총 합\n",
        "rare_freq = 0 # 등장 빈도수가 threshold보다 작은 단어의 등장 빈도수의 총 합\n",
        "\n",
        "# 단어와 빈도수의 쌍(pair)을 key와 value로 받음\n",
        "for key, value in tokenizer.word_counts.items():\n",
        "    total_freq = total_freq + value\n",
        "\n",
        "    # 단어의 등장 빈도수가 threshold보다 작으면\n",
        "    if(value < threshold):\n",
        "        rare_cnt = rare_cnt + 1\n",
        "        rare_freq = rare_freq + value\n",
        "\n",
        "print('단어 집합(vocabulary)의 크기 :',total_cnt)\n",
        "print('등장 빈도가 %s번 이하인 희귀 단어의 수: %s'%(threshold - 1, rare_cnt))\n",
        "print(\"단어 집합에서 희귀 단어의 비율:\", (rare_cnt / total_cnt)*100)\n",
        "print(\"전체 등장 빈도에서 희귀 단어 등장 빈도 비율:\", (rare_freq / total_freq)*100)\n",
        "# 희귀단어는 정수 인코딩 과정에서 배제한다."
      ],
      "metadata": {
        "colab": {
          "base_uri": "https://localhost:8080/"
        },
        "id": "o-roOxSNiBNj",
        "outputId": "0e77093d-31e6-4068-80d9-5ad131937c7c"
      },
      "execution_count": 30,
      "outputs": [
        {
          "output_type": "stream",
          "name": "stdout",
          "text": [
            "단어 집합(vocabulary)의 크기 : 2544\n",
            "등장 빈도가 2번 이하인 희귀 단어의 수: 1618\n",
            "단어 집합에서 희귀 단어의 비율: 63.600628930817614\n",
            "전체 등장 빈도에서 희귀 단어 등장 빈도 비율: 14.619260520899866\n"
          ]
        }
      ]
    },
    {
      "cell_type": "code",
      "source": [
        "# 전체 단어 개수 중 빈도수 2이하인 단어는 제거.\n",
        "# 0번 패딩 토큰을 고려하여 + 1\n",
        "vocab_size = total_cnt - rare_cnt + 1\n",
        "print('단어 집합의 크기 :',vocab_size)"
      ],
      "metadata": {
        "colab": {
          "base_uri": "https://localhost:8080/"
        },
        "id": "zRMfxQqjiBQP",
        "outputId": "5a1bf497-1659-4b89-c535-c804a72e0cc0"
      },
      "execution_count": 31,
      "outputs": [
        {
          "output_type": "stream",
          "name": "stdout",
          "text": [
            "단어 집합의 크기 : 927\n"
          ]
        }
      ]
    },
    {
      "cell_type": "code",
      "source": [
        "tokenizer = Tokenizer(vocab_size)\n",
        "# 케라스 토크나이저는 텍스트 시퀀스를 숫자 시퀀스로 변환한다.\n",
        "tokenizer.fit_on_texts(X_train)\n",
        "X_train = tokenizer.texts_to_sequences(X_train)\n",
        "X_test = tokenizer.texts_to_sequences(X_test)"
      ],
      "metadata": {
        "id": "_sNvqX5hiBTp"
      },
      "execution_count": 32,
      "outputs": []
    },
    {
      "cell_type": "code",
      "source": [
        "# 저장할 토크나이저 경로 지정\n",
        "import pickle\n",
        "tokenizer_filename = '/content/drive/MyDrive/tfidf/tokenizer3.pkl'\n",
        "\n",
        "# tokenizer 저장\n",
        "with open(tokenizer_filename, 'wb') as file:\n",
        "    pickle.dump(tokenizer, file)"
      ],
      "metadata": {
        "id": "sXOfNBHW8Cpj"
      },
      "execution_count": 33,
      "outputs": []
    },
    {
      "cell_type": "code",
      "source": [
        "print(X_train[:3])"
      ],
      "metadata": {
        "colab": {
          "base_uri": "https://localhost:8080/"
        },
        "id": "ZHtm3YNgbxY1",
        "outputId": "38b9c5d4-0f6c-4370-a22a-3f3e5520bd63"
      },
      "execution_count": 34,
      "outputs": [
        {
          "output_type": "stream",
          "name": "stdout",
          "text": [
            "[[360, 716, 18, 7, 297, 716, 2, 68, 574, 180, 13, 2, 716, 94, 2, 103, 18, 38, 69, 32, 717, 574, 2, 574, 84, 575, 171, 181, 473, 21, 718, 3, 46, 59, 194, 473, 262, 575, 3, 72, 125, 263, 576, 172, 103, 152, 322, 473, 22, 2, 361, 9, 21, 10, 361, 9, 5, 85, 574, 5, 85, 32, 7, 719, 577, 473, 76, 2, 209, 10, 22, 51, 473, 2, 361, 9, 5, 474, 126, 720, 52, 2], [12, 13, 33, 11, 6, 578, 721, 12, 29, 9, 54, 73, 4, 39, 195, 12, 29, 54, 73, 722, 4, 27, 39, 362, 34, 210, 29, 412, 413, 46, 25, 722, 363, 579, 323, 33, 14, 28, 34, 5, 475, 413, 46, 70, 182, 12, 723, 724, 12, 298, 724, 414, 6, 48, 29, 153, 127, 173, 413, 46, 153, 69, 18, 196, 9, 135, 91, 324, 223, 4, 238, 10, 15, 153, 74, 15, 97, 114, 55, 476, 12, 54, 29, 9, 39, 92, 60, 415, 12, 363, 579, 722, 363, 579, 14, 69, 114, 55, 12, 54, 73, 27, 39, 92, 28, 34, 97, 128, 15, 477, 12, 27, 39, 1, 11, 6, 1, 363, 4, 12, 54, 73, 39, 1, 12, 54, 29, 56, 11, 6, 56, 580, 36, 8, 725, 14, 11, 6, 10, 30, 12, 54, 73, 27, 39, 28, 34, 415, 12, 581, 29, 726, 153, 478, 16, 581, 29, 12, 325, 9, 326, 73, 39, 92, 5, 80], [479, 727, 4, 480, 416, 481, 131, 132, 120, 211, 95, 4]]\n"
          ]
        }
      ]
    },
    {
      "cell_type": "code",
      "source": [
        "# data에서 y_train과 y_test를 별도로 저장\n",
        "y_train = np.array(train_data['label'])\n",
        "y_test = np.array(test_data['label'])"
      ],
      "metadata": {
        "id": "BOEa7nkJbxaq"
      },
      "execution_count": 35,
      "outputs": []
    },
    {
      "cell_type": "code",
      "source": [
        "# 빈 샘플(empty samples) 제거\n",
        "# 앞서 희소 단어를 제거하면서 희소 단어들만으로 채워진 리뷰는 빈 샘플이 된다.\n",
        "# 빈도수가 낮은 단어만으로 구성되었던 빈 샘플을 제거한다.\n",
        "\n",
        "# 각 샘플들의 길이를 확인해서 길이가 0인 샘플들의 인덱스를 확인한다.\n",
        "drop_train = [index for index, sentence in enumerate(X_train) if len(sentence) < 1]\n",
        "# drop_train에는 X_train으로부터 얻은 빈 샘플들의 인덱스가 저장되어져 있다."
      ],
      "metadata": {
        "id": "L85xsiGJbxcy"
      },
      "execution_count": 36,
      "outputs": []
    },
    {
      "cell_type": "code",
      "source": [
        "# 빈 샘플들을 제거\n",
        "X_train = np.delete(X_train, drop_train, axis=0)\n",
        "y_train = np.delete(y_train, drop_train, axis=0)\n",
        "print(len(X_train))\n",
        "print(len(y_train))"
      ],
      "metadata": {
        "colab": {
          "base_uri": "https://localhost:8080/"
        },
        "id": "gG2XqNSybxeu",
        "outputId": "76c80fc9-044c-4918-f09a-9aba96212993"
      },
      "execution_count": 37,
      "outputs": [
        {
          "output_type": "stream",
          "name": "stdout",
          "text": [
            "230\n",
            "230\n"
          ]
        },
        {
          "output_type": "stream",
          "name": "stderr",
          "text": [
            "/usr/local/lib/python3.10/dist-packages/numpy/lib/function_base.py:5071: VisibleDeprecationWarning: Creating an ndarray from ragged nested sequences (which is a list-or-tuple of lists-or-tuples-or ndarrays with different lengths or shapes) is deprecated. If you meant to do this, you must specify 'dtype=object' when creating the ndarray.\n",
            "  arr = asarray(arr)\n"
          ]
        }
      ]
    },
    {
      "cell_type": "code",
      "source": [
        "import matplotlib.pyplot as plt\n",
        "# 패딩\n",
        "# 패딩을 위해 전체 데이터에서 가장 길이가 긴 리뷰와 전체 데이터의 길이 분포를 알아본다.\n",
        "\n",
        "print('리뷰의 최대 길이 :',max(len(l) for l in X_train))\n",
        "print('리뷰의 평균 길이 :',sum(map(len, X_train))/len(X_train))\n",
        "plt.hist([len(s) for s in X_train], bins=50)\n",
        "plt.xlabel('length of samples')\n",
        "plt.ylabel('number of samples')\n",
        "plt.show()"
      ],
      "metadata": {
        "colab": {
          "base_uri": "https://localhost:8080/",
          "height": 485
        },
        "id": "5gMtmbKRbxgj",
        "outputId": "c8ba1d90-a901-468c-a173-d3df2586eb7a"
      },
      "execution_count": 38,
      "outputs": [
        {
          "output_type": "stream",
          "name": "stdout",
          "text": [
            "리뷰의 최대 길이 : 373\n",
            "리뷰의 평균 길이 : 52.30869565217391\n"
          ]
        },
        {
          "output_type": "display_data",
          "data": {
            "text/plain": [
              "<Figure size 640x480 with 1 Axes>"
            ],
            "image/png": "[encoded data removed]"
          },
          "metadata": {}
        }
      ]
    },
    {
      "cell_type": "code",
      "source": [
        "# 대부분의 리뷰가 내용이 잘리지 않도록 전체 샘플 중 길이가 max_len 이하인 샘플의 비율이 몇 %인지 확인하는 함수를 만들어 사용한다.\n",
        "\n",
        "def below_threshold_len(max_len, nested_list):\n",
        "  cnt = 0\n",
        "  for s in nested_list:\n",
        "    if(len(s) <= max_len):\n",
        "        cnt = cnt + 1\n",
        "  print('전체 샘플 중 길이가 %s 이하인 샘플의 비율: %s'%(max_len, (cnt / len(nested_list))*100))"
      ],
      "metadata": {
        "id": "CfDsInakbxiy"
      },
      "execution_count": 39,
      "outputs": []
    },
    {
      "cell_type": "code",
      "source": [
        "# max_len을 100으로 지정하고 그 분포를 확인해보자.\n",
        "max_len = 100\n",
        "below_threshold_len(max_len, X_train)\n",
        "# 전체 훈련 데이터 중 약 84%가 100이하의 길이를 가지는 것을 확인했다."
      ],
      "metadata": {
        "colab": {
          "base_uri": "https://localhost:8080/"
        },
        "id": "PcLdL23Ebxk5",
        "outputId": "f0fdb79f-1251-4b51-95d9-6fbe3243696c"
      },
      "execution_count": 40,
      "outputs": [
        {
          "output_type": "stream",
          "name": "stdout",
          "text": [
            "전체 샘플 중 길이가 100 이하인 샘플의 비율: 84.34782608695653\n"
          ]
        }
      ]
    },
    {
      "cell_type": "code",
      "source": [
        "from tensorflow.keras.preprocessing.sequence import pad_sequences\n",
        "X_train = pad_sequences(X_train, maxlen = max_len)\n",
        "X_test = pad_sequences(X_test, maxlen = max_len)"
      ],
      "metadata": {
        "id": "BGTaDfO6bxm9"
      },
      "execution_count": 41,
      "outputs": []
    },
    {
      "cell_type": "code",
      "source": [
        "from tensorflow.keras.layers import Embedding, Dense, LSTM\n",
        "from tensorflow.keras.models import Sequential\n",
        "from tensorflow.keras.models import load_model\n",
        "from tensorflow.keras.callbacks import EarlyStopping, ModelCheckpoint"
      ],
      "metadata": {
        "id": "I4YxTx3MbxqW"
      },
      "execution_count": 42,
      "outputs": []
    },
    {
      "cell_type": "code",
      "source": [
        "model2 = Sequential()\n",
        "model2.add(Embedding(vocab_size+1, 100))\n",
        "model2.add(LSTM(128))\n",
        "model2.add(Dense(1, activation='sigmoid'))"
      ],
      "metadata": {
        "id": "IlFuEiI9YqNl"
      },
      "execution_count": 52,
      "outputs": []
    },
    {
      "cell_type": "code",
      "source": [
        "es = EarlyStopping(monitor='val_loss', mode='min', verbose=1, patience=4)\n",
        "# 검증 데이터 손실(val_loss)이 증가하면 조기 종료\n",
        "mc = ModelCheckpoint('best_model7.h5', monitor='val_acc', mode='max', verbose=1, save_best_only=True)\n",
        "# 훈련 과정에서 검증 데이터의 정확도가 가장 높은 모델 저장\n"
      ],
      "metadata": {
        "id": "Qje4Tq70YqP8"
      },
      "execution_count": 53,
      "outputs": []
    },
    {
      "cell_type": "code",
      "source": [
        "model2.compile(optimizer='rmsprop', loss='binary_crossentropy', metrics=['acc','binary_accuracy'])\n",
        "history = model2.fit(X_train, y_train, epochs=50, callbacks=[es, mc], batch_size=60, validation_split=0.2)\n",
        "# 훈련 데이터 중 20%를 검증 데이터로 사용하면서 정확도 확인"
      ],
      "metadata": {
        "colab": {
          "base_uri": "https://localhost:8080/"
        },
        "id": "WLxD0IYaYqR5",
        "outputId": "6bc4eacc-fd4f-44b5-d9f1-8d3839496c89"
      },
      "execution_count": 54,
      "outputs": [
        {
          "output_type": "stream",
          "name": "stdout",
          "text": [
            "Epoch 1/50\n",
            "4/4 [==============================] - ETA: 0s - loss: 0.6770 - acc: 0.6304 - binary_accuracy: 0.6304\n",
            "Epoch 1: val_acc improved from -inf to 0.41304, saving model to best_model7.h5\n",
            "4/4 [==============================] - 4s 341ms/step - loss: 0.6770 - acc: 0.6304 - binary_accuracy: 0.6304 - val_loss: 0.6691 - val_acc: 0.4130 - val_binary_accuracy: 0.4130\n",
            "Epoch 2/50\n"
          ]
        },
        {
          "output_type": "stream",
          "name": "stderr",
          "text": [
            "/usr/local/lib/python3.10/dist-packages/keras/src/engine/training.py:3079: UserWarning: You are saving your model as an HDF5 file via `model.save()`. This file format is considered legacy. We recommend using instead the native Keras format, e.g. `model.save('my_model.keras')`.\n",
            "  saving_api.save_model(\n"
          ]
        },
        {
          "output_type": "stream",
          "name": "stdout",
          "text": [
            "4/4 [==============================] - ETA: 0s - loss: 0.6120 - acc: 0.6793 - binary_accuracy: 0.6793\n",
            "Epoch 2: val_acc improved from 0.41304 to 0.69565, saving model to best_model7.h5\n",
            "4/4 [==============================] - 1s 178ms/step - loss: 0.6120 - acc: 0.6793 - binary_accuracy: 0.6793 - val_loss: 0.6203 - val_acc: 0.6957 - val_binary_accuracy: 0.6957\n",
            "Epoch 3/50\n",
            "4/4 [==============================] - ETA: 0s - loss: 0.5304 - acc: 0.8587 - binary_accuracy: 0.8587\n",
            "Epoch 3: val_acc improved from 0.69565 to 0.82609, saving model to best_model7.h5\n",
            "4/4 [==============================] - 1s 181ms/step - loss: 0.5304 - acc: 0.8587 - binary_accuracy: 0.8587 - val_loss: 0.5105 - val_acc: 0.8261 - val_binary_accuracy: 0.8261\n",
            "Epoch 4/50\n",
            "4/4 [==============================] - ETA: 0s - loss: 0.4073 - acc: 0.8750 - binary_accuracy: 0.8750\n",
            "Epoch 4: val_acc did not improve from 0.82609\n",
            "4/4 [==============================] - 1s 172ms/step - loss: 0.4073 - acc: 0.8750 - binary_accuracy: 0.8750 - val_loss: 0.9218 - val_acc: 0.6739 - val_binary_accuracy: 0.6739\n",
            "Epoch 5/50\n",
            "4/4 [==============================] - ETA: 0s - loss: 0.5000 - acc: 0.8370 - binary_accuracy: 0.8370\n",
            "Epoch 5: val_acc improved from 0.82609 to 0.86957, saving model to best_model7.h5\n",
            "4/4 [==============================] - 1s 185ms/step - loss: 0.5000 - acc: 0.8370 - binary_accuracy: 0.8370 - val_loss: 0.2429 - val_acc: 0.8696 - val_binary_accuracy: 0.8696\n",
            "Epoch 6/50\n",
            "4/4 [==============================] - ETA: 0s - loss: 0.2177 - acc: 0.9457 - binary_accuracy: 0.9457\n",
            "Epoch 6: val_acc improved from 0.86957 to 0.91304, saving model to best_model7.h5\n",
            "4/4 [==============================] - 1s 175ms/step - loss: 0.2177 - acc: 0.9457 - binary_accuracy: 0.9457 - val_loss: 0.2307 - val_acc: 0.9130 - val_binary_accuracy: 0.9130\n",
            "Epoch 7/50\n",
            "4/4 [==============================] - ETA: 0s - loss: 0.1836 - acc: 0.9511 - binary_accuracy: 0.9511\n",
            "Epoch 7: val_acc did not improve from 0.91304\n",
            "4/4 [==============================] - 1s 173ms/step - loss: 0.1836 - acc: 0.9511 - binary_accuracy: 0.9511 - val_loss: 0.1935 - val_acc: 0.9130 - val_binary_accuracy: 0.9130\n",
            "Epoch 8/50\n",
            "4/4 [==============================] - ETA: 0s - loss: 0.1840 - acc: 0.9565 - binary_accuracy: 0.9565\n",
            "Epoch 8: val_acc improved from 0.91304 to 0.93478, saving model to best_model7.h5\n",
            "4/4 [==============================] - 1s 204ms/step - loss: 0.1840 - acc: 0.9565 - binary_accuracy: 0.9565 - val_loss: 0.1835 - val_acc: 0.9348 - val_binary_accuracy: 0.9348\n",
            "Epoch 9/50\n",
            "4/4 [==============================] - ETA: 0s - loss: 0.1458 - acc: 0.9565 - binary_accuracy: 0.9565\n",
            "Epoch 9: val_acc improved from 0.93478 to 0.97826, saving model to best_model7.h5\n",
            "4/4 [==============================] - 1s 209ms/step - loss: 0.1458 - acc: 0.9565 - binary_accuracy: 0.9565 - val_loss: 0.2646 - val_acc: 0.9783 - val_binary_accuracy: 0.9783\n",
            "Epoch 10/50\n",
            "4/4 [==============================] - ETA: 0s - loss: 0.2145 - acc: 0.9565 - binary_accuracy: 0.9565\n",
            "Epoch 10: val_acc did not improve from 0.97826\n",
            "4/4 [==============================] - 2s 320ms/step - loss: 0.2145 - acc: 0.9565 - binary_accuracy: 0.9565 - val_loss: 0.1416 - val_acc: 0.9565 - val_binary_accuracy: 0.9565\n",
            "Epoch 11/50\n",
            "4/4 [==============================] - ETA: 0s - loss: 0.1232 - acc: 0.9783 - binary_accuracy: 0.9783\n",
            "Epoch 11: val_acc did not improve from 0.97826\n",
            "4/4 [==============================] - 1s 293ms/step - loss: 0.1232 - acc: 0.9783 - binary_accuracy: 0.9783 - val_loss: 0.1562 - val_acc: 0.9348 - val_binary_accuracy: 0.9348\n",
            "Epoch 12/50\n",
            "4/4 [==============================] - ETA: 0s - loss: 0.1086 - acc: 0.9620 - binary_accuracy: 0.9620\n",
            "Epoch 12: val_acc did not improve from 0.97826\n",
            "4/4 [==============================] - 1s 315ms/step - loss: 0.1086 - acc: 0.9620 - binary_accuracy: 0.9620 - val_loss: 0.8189 - val_acc: 0.8261 - val_binary_accuracy: 0.8261\n",
            "Epoch 13/50\n",
            "4/4 [==============================] - ETA: 0s - loss: 0.3150 - acc: 0.9402 - binary_accuracy: 0.9402\n",
            "Epoch 13: val_acc did not improve from 0.97826\n",
            "4/4 [==============================] - 1s 283ms/step - loss: 0.3150 - acc: 0.9402 - binary_accuracy: 0.9402 - val_loss: 0.1402 - val_acc: 0.9565 - val_binary_accuracy: 0.9565\n",
            "Epoch 14/50\n",
            "4/4 [==============================] - ETA: 0s - loss: 0.1209 - acc: 0.9728 - binary_accuracy: 0.9728\n",
            "Epoch 14: val_acc did not improve from 0.97826\n",
            "4/4 [==============================] - 1s 285ms/step - loss: 0.1209 - acc: 0.9728 - binary_accuracy: 0.9728 - val_loss: 0.1151 - val_acc: 0.9565 - val_binary_accuracy: 0.9565\n",
            "Epoch 15/50\n",
            "4/4 [==============================] - ETA: 0s - loss: 0.1122 - acc: 0.9728 - binary_accuracy: 0.9728\n",
            "Epoch 15: val_acc did not improve from 0.97826\n",
            "4/4 [==============================] - 1s 200ms/step - loss: 0.1122 - acc: 0.9728 - binary_accuracy: 0.9728 - val_loss: 0.0940 - val_acc: 0.9783 - val_binary_accuracy: 0.9783\n",
            "Epoch 16/50\n",
            "4/4 [==============================] - ETA: 0s - loss: 0.0942 - acc: 0.9728 - binary_accuracy: 0.9728\n",
            "Epoch 16: val_acc did not improve from 0.97826\n",
            "4/4 [==============================] - 1s 165ms/step - loss: 0.0942 - acc: 0.9728 - binary_accuracy: 0.9728 - val_loss: 0.1197 - val_acc: 0.9565 - val_binary_accuracy: 0.9565\n",
            "Epoch 17/50\n",
            "4/4 [==============================] - ETA: 0s - loss: 0.0982 - acc: 0.9674 - binary_accuracy: 0.9674\n",
            "Epoch 17: val_acc did not improve from 0.97826\n",
            "4/4 [==============================] - 1s 175ms/step - loss: 0.0982 - acc: 0.9674 - binary_accuracy: 0.9674 - val_loss: 0.1538 - val_acc: 0.9565 - val_binary_accuracy: 0.9565\n",
            "Epoch 18/50\n",
            "4/4 [==============================] - ETA: 0s - loss: 0.0864 - acc: 0.9783 - binary_accuracy: 0.9783\n",
            "Epoch 18: val_acc did not improve from 0.97826\n",
            "4/4 [==============================] - 1s 289ms/step - loss: 0.0864 - acc: 0.9783 - binary_accuracy: 0.9783 - val_loss: 0.0841 - val_acc: 0.9783 - val_binary_accuracy: 0.9783\n",
            "Epoch 19/50\n",
            "4/4 [==============================] - ETA: 0s - loss: 0.0610 - acc: 0.9783 - binary_accuracy: 0.9783\n",
            "Epoch 19: val_acc did not improve from 0.97826\n",
            "4/4 [==============================] - 1s 290ms/step - loss: 0.0610 - acc: 0.9783 - binary_accuracy: 0.9783 - val_loss: 0.1693 - val_acc: 0.9565 - val_binary_accuracy: 0.9565\n",
            "Epoch 20/50\n",
            "4/4 [==============================] - ETA: 0s - loss: 0.0815 - acc: 0.9783 - binary_accuracy: 0.9783\n",
            "Epoch 20: val_acc did not improve from 0.97826\n",
            "4/4 [==============================] - 1s 171ms/step - loss: 0.0815 - acc: 0.9783 - binary_accuracy: 0.9783 - val_loss: 0.1020 - val_acc: 0.9565 - val_binary_accuracy: 0.9565\n",
            "Epoch 21/50\n",
            "4/4 [==============================] - ETA: 0s - loss: 0.0563 - acc: 0.9837 - binary_accuracy: 0.9837\n",
            "Epoch 21: val_acc did not improve from 0.97826\n",
            "4/4 [==============================] - 1s 162ms/step - loss: 0.0563 - acc: 0.9837 - binary_accuracy: 0.9837 - val_loss: 0.1317 - val_acc: 0.9565 - val_binary_accuracy: 0.9565\n",
            "Epoch 22/50\n",
            "4/4 [==============================] - ETA: 0s - loss: 0.0497 - acc: 0.9783 - binary_accuracy: 0.9783\n",
            "Epoch 22: val_acc did not improve from 0.97826\n",
            "4/4 [==============================] - 1s 168ms/step - loss: 0.0497 - acc: 0.9783 - binary_accuracy: 0.9783 - val_loss: 0.1742 - val_acc: 0.9348 - val_binary_accuracy: 0.9348\n",
            "Epoch 22: early stopping\n"
          ]
        }
      ]
    },
    {
      "cell_type": "code",
      "source": [
        "model2.evaluate(X_test, y_test) # 정확도 확인"
      ],
      "metadata": {
        "colab": {
          "base_uri": "https://localhost:8080/"
        },
        "id": "x8HK7snr0cwZ",
        "outputId": "e714a031-299f-4ce0-a344-6b2da38cac64"
      },
      "execution_count": 55,
      "outputs": [
        {
          "output_type": "stream",
          "name": "stdout",
          "text": [
            "2/2 [==============================] - 0s 94ms/step - loss: 0.0987 - acc: 0.9483 - binary_accuracy: 0.9483\n"
          ]
        },
        {
          "output_type": "execute_result",
          "data": {
            "text/plain": [
              "[0.09865890443325043, 0.9482758641242981, 0.9482758641242981]"
            ]
          },
          "metadata": {},
          "execution_count": 55
        }
      ]
    },
    {
      "cell_type": "code",
      "source": [
        "model2.save(\"/content/drive/MyDrive/tfidf/1203_final_lstm.h5\") #모델 저장"
      ],
      "metadata": {
        "id": "DzhN9ZGg13Oq",
        "colab": {
          "base_uri": "https://localhost:8080/"
        },
        "outputId": "882c01a6-0811-4557-d95c-d8e2f7b398aa"
      },
      "execution_count": 56,
      "outputs": [
        {
          "output_type": "stream",
          "name": "stderr",
          "text": [
            "/usr/local/lib/python3.10/dist-packages/keras/src/engine/training.py:3079: UserWarning: You are saving your model as an HDF5 file via `model.save()`. This file format is considered legacy. We recommend using instead the native Keras format, e.g. `model.save('my_model.keras')`.\n",
            "  saving_api.save_model(\n"
          ]
        }
      ]
    },
    {
      "cell_type": "code",
      "source": [
        "#accuracy 확인\n",
        "plt.plot(history.history['acc'])\n",
        "plt.plot(history.history['val_acc'])\n",
        "plt.title('Accuracy')\n",
        "plt.legend(['train','test'], loc='upper left')\n",
        "plt.show()\n",
        "plt.plot(history.history['loss'])\n",
        "plt.plot(history.history['val_loss'])\n",
        "plt.title('Loss')\n",
        "plt.legend(['train','test'], loc='upper left')\n",
        "plt.show()"
      ],
      "metadata": {
        "colab": {
          "base_uri": "https://localhost:8080/",
          "height": 887
        },
        "id": "k0pPjhKo-fe5",
        "outputId": "54201815-f0c5-4e6d-b488-825a1b8639dc"
      },
      "execution_count": 57,
      "outputs": [
        {
          "output_type": "display_data",
          "data": {
            "text/plain": [
              "<Figure size 640x480 with 1 Axes>"
            ],
            "image/png": "[encoded data removed]"
          },
          "metadata": {}
        },
        {
          "output_type": "display_data",
          "data": {
            "text/plain": [
              "<Figure size 640x480 with 1 Axes>"
            ],
            "image/png": "[encoded data removed]"
          },
          "metadata": {}
        }
      ]
    },
    {
      "cell_type": "code",
      "source": [
        "acc = history.history['acc']\n",
        "plt.plot(acc)\n",
        "plt.show()\n",
        "#accuracy 확인"
      ],
      "metadata": {
        "colab": {
          "base_uri": "https://localhost:8080/",
          "height": 434
        },
        "id": "vfhhR9py3Bq-",
        "outputId": "685d3fb4-1c56-4c97-ecae-49b85af35784"
      },
      "execution_count": 58,
      "outputs": [
        {
          "output_type": "display_data",
          "data": {
            "text/plain": [
              "<Figure size 640x480 with 1 Axes>"
            ],
            "image/png": "[encoded data removed]"
          },
          "metadata": {}
        }
      ]
    },
    {
      "cell_type": "code",
      "source": [
        "acc = history.history['binary_accuracy']\n",
        "plt.plot(acc)\n",
        "plt.show()\n",
        "#binary_accuracy 확인"
      ],
      "metadata": {
        "colab": {
          "base_uri": "https://localhost:8080/",
          "height": 434
        },
        "id": "p99rabpy73h3",
        "outputId": "b80805d7-c5af-46a1-ffc2-a44a14ff76aa"
      },
      "execution_count": 59,
      "outputs": [
        {
          "output_type": "display_data",
          "data": {
            "text/plain": [
              "<Figure size 640x480 with 1 Axes>"
            ],
            "image/png": "[encoded data removed]"
          },
          "metadata": {}
        }
      ]
    },
    {
      "cell_type": "code",
      "source": [
        "loss = history.history['loss']\n",
        "plt.plot(loss)\n",
        "plt.show()"
      ],
      "metadata": {
        "colab": {
          "base_uri": "https://localhost:8080/",
          "height": 431
        },
        "id": "9Oe4zcer3ZfZ",
        "outputId": "844072b0-c312-4323-cd30-c8cdb8f3847d"
      },
      "execution_count": 60,
      "outputs": [
        {
          "output_type": "display_data",
          "data": {
            "text/plain": [
              "<Figure size 640x480 with 1 Axes>"
            ],
            "image/png": "[encoded data removed]"
          },
          "metadata": {}
        }
      ]
    },
    {
      "cell_type": "code",
      "source": [
        "from tensorflow.keras.models import load_model\n",
        "from tensorflow.keras.preprocessing.text import Tokenizer\n",
        "# 테스트 데이터에 대해서 정확도 측정\n",
        "loaded_model2 = load_model('/content/drive/MyDrive/tfidf/1203_final_lstm.h5')\n",
        "print(\"\\n 테스트 정확도: %.4f\" % (loaded_model2.evaluate(X_test, y_test)[1]))"
      ],
      "metadata": {
        "id": "sQh0pwnu5Yxj",
        "colab": {
          "base_uri": "https://localhost:8080/"
        },
        "outputId": "4ececba5-7c3c-4ba7-fa53-b31b278b7ea5"
      },
      "execution_count": 63,
      "outputs": [
        {
          "output_type": "stream",
          "name": "stdout",
          "text": [
            "2/2 [==============================] - 2s 79ms/step - loss: 0.0987 - acc: 0.9483 - binary_accuracy: 0.9483\n",
            "\n",
            " 테스트 정확도: 0.9483\n"
          ]
        }
      ]
    }
  ]
}
